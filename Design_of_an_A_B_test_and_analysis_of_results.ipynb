{
 "cells": [
  {
   "cell_type": "markdown",
   "metadata": {
    "id": "u98L9TgH0eMk"
   },
   "source": [
    "# Разработка A/B-тестирования и анализ результатов\n",
    "\n",
    "Автор: Каримова Эльвира Ильгизовна 🙂\n",
    "\n",
    "## Введение\n",
    "Для данного проекта необходимо было провести оценку эффективности нового алгоритма рекомендательной системы в развлекательном приложении с бесконечной лентой контента, аналогичном платформам с короткими видео.\n",
    "\n",
    "Приложение использует две модели монетизации:\n",
    "\n",
    "- **Платная подписка** — пользователи без рекламы.\n",
    "- **Бесплатный доступ** — с показом рекламы.\n",
    "\n",
    "Команда разработчиков предложила новый алгоритм рекомендаций, который, по их гипотезе, показывает более релевантный контент и повышает вовлечённость. Моя задача — спроектировать и проанализировать A/B-тест, чтобы проверить эту гипотезу.\n",
    "\n",
    "## Цель и задачи  \n",
    "\n",
    "- Цель теста: оценить **эффективность нового алгоритма рекомендаций**.\n",
    "- Целевая метрика: **доля успешных сессий**, в которых пользователь просмотрел 4 и более страниц - `показатель вовлеченности контента`.\n",
    "- Гипотеза: новый алгоритм повысит вовлеченность пользователь -> **увеличит долю \"успешных сессий\"**.\n",
    "\n",
    "**Задачи:**\n",
    "1. Загрузить данные и познакомиться с их содержимым.\n",
    "2. Провести предобработку данных, проверить отсутствие пересечения между группами.\n",
    "3. Сформулировать продуктовую гипотезу.\n",
    "4. Выбрать целевую метрику.\n",
    "5. Выбрать стат.параметры, аудиторию, длительность эксперимента и разделить на группы.\n",
    "6. Подсчитать метрики, проверить стат.значимость и провести выбранный стат.тест. \n",
    "7. Интерпретировать результаты и принять решения."
   ]
  },
  {
   "cell_type": "markdown",
   "metadata": {
    "id": "LJBRALHs0eMf"
   },
   "source": [
    "## Описание данных\n",
    "\n",
    "Перед нами три таблицы:\n",
    "\n",
    "- Таблица 1 — таблица с историческими данными по сессиям пользователей на период с 2025-08-15 по 2025-09-23.\n",
    "\n",
    "- Таблица 2 — таблица с данными за первый день проведения A/B-теста, то есть за 2025-10-14.\n",
    "\n",
    "- Таблица 3 — таблица с данными за весь период проведения A/B-теста, то есть с 2025-10-14 по 2025-11-02. \n",
    "\n",
    "У этих таблиц почти совпадает структура и содержание колонок, различаются лишь периоды наблюдения."
   ]
  },
  {
   "cell_type": "markdown",
   "metadata": {
    "id": "UpOucjID0eMl"
   },
   "source": [
    "### 1. Работа с историческими данными (EDA)"
   ]
  },
  {
   "cell_type": "markdown",
   "metadata": {
    "id": "8iJMtL-30eMl"
   },
   "source": [
    "#### 1.1. Загрузка исторических данных\n",
    "Работа  с историческими данными приложения:\n",
    "\n",
    "- Импортиртируем библиотеку pandas.\n",
    "\n",
    "- Считаем и сохраняем в датафрейм `sessions_history` CSV-файл с историческими данными о сессиях пользователей.\n",
    "\n",
    "Выводим на экран первые пять строк полученного датафрейма."
   ]
  },
  {
   "cell_type": "code",
   "execution_count": 1,
   "metadata": {
    "id": "6TPR2-1RPboT"
   },
   "outputs": [],
   "source": [
    "# Импортируем библиотеки\n",
    "import pandas as pd\n",
    "import numpy as np\n",
    "\n",
    "# Загружаем библиотеки для визуализации данных\n",
    "import matplotlib.pyplot as plt\n",
    "import seaborn as sns\n",
    "\n",
    "from math import ceil\n",
    "\n",
    "# Загружаем библиотеки для стат.тестов\n",
    "from statsmodels.stats.power import NormalIndPower\n",
    "from scipy.stats import ttest_ind\n",
    "from statsmodels.stats.proportion import proportions_ztest"
   ]
  },
  {
   "cell_type": "code",
   "execution_count": 2,
   "metadata": {},
   "outputs": [
    {
     "data": {
      "text/html": [
       "<div>\n",
       "<style scoped>\n",
       "    .dataframe tbody tr th:only-of-type {\n",
       "        vertical-align: middle;\n",
       "    }\n",
       "\n",
       "    .dataframe tbody tr th {\n",
       "        vertical-align: top;\n",
       "    }\n",
       "\n",
       "    .dataframe thead th {\n",
       "        text-align: right;\n",
       "    }\n",
       "</style>\n",
       "<table border=\"1\" class=\"dataframe\">\n",
       "  <thead>\n",
       "    <tr style=\"text-align: right;\">\n",
       "      <th></th>\n",
       "      <th>user_id</th>\n",
       "      <th>session_id</th>\n",
       "      <th>session_date</th>\n",
       "      <th>session_start_ts</th>\n",
       "      <th>install_date</th>\n",
       "      <th>session_number</th>\n",
       "      <th>registration_flag</th>\n",
       "      <th>page_counter</th>\n",
       "      <th>region</th>\n",
       "      <th>device</th>\n",
       "    </tr>\n",
       "  </thead>\n",
       "  <tbody>\n",
       "    <tr>\n",
       "      <th>0</th>\n",
       "      <td>E302123B7000BFE4</td>\n",
       "      <td>F9AF61A0C2023832</td>\n",
       "      <td>2025-08-15</td>\n",
       "      <td>2025-08-15 17:47:35</td>\n",
       "      <td>2025-08-15</td>\n",
       "      <td>1</td>\n",
       "      <td>0</td>\n",
       "      <td>3</td>\n",
       "      <td>CIS</td>\n",
       "      <td>iPhone</td>\n",
       "    </tr>\n",
       "    <tr>\n",
       "      <th>1</th>\n",
       "      <td>2530F72E221829FB</td>\n",
       "      <td>85003A206CBDAC6F</td>\n",
       "      <td>2025-08-15</td>\n",
       "      <td>2025-08-15 16:42:14</td>\n",
       "      <td>2025-08-15</td>\n",
       "      <td>1</td>\n",
       "      <td>0</td>\n",
       "      <td>4</td>\n",
       "      <td>MENA</td>\n",
       "      <td>Android</td>\n",
       "    </tr>\n",
       "    <tr>\n",
       "      <th>2</th>\n",
       "      <td>876E020A4FC512F5</td>\n",
       "      <td>3677423E49D72DEE</td>\n",
       "      <td>2025-08-15</td>\n",
       "      <td>2025-08-15 12:30:00</td>\n",
       "      <td>2025-08-15</td>\n",
       "      <td>1</td>\n",
       "      <td>0</td>\n",
       "      <td>4</td>\n",
       "      <td>EU</td>\n",
       "      <td>PC</td>\n",
       "    </tr>\n",
       "    <tr>\n",
       "      <th>3</th>\n",
       "      <td>2640B349E1D81584</td>\n",
       "      <td>956B45F5915CA225</td>\n",
       "      <td>2025-08-15</td>\n",
       "      <td>2025-08-15 15:31:31</td>\n",
       "      <td>2025-08-15</td>\n",
       "      <td>1</td>\n",
       "      <td>0</td>\n",
       "      <td>4</td>\n",
       "      <td>CIS</td>\n",
       "      <td>Android</td>\n",
       "    </tr>\n",
       "    <tr>\n",
       "      <th>4</th>\n",
       "      <td>94E1CBFAEF1F5EE9</td>\n",
       "      <td>83BF0DA35F9F1F40</td>\n",
       "      <td>2025-08-15</td>\n",
       "      <td>2025-08-15 21:33:53</td>\n",
       "      <td>2025-08-15</td>\n",
       "      <td>1</td>\n",
       "      <td>0</td>\n",
       "      <td>3</td>\n",
       "      <td>CIS</td>\n",
       "      <td>Android</td>\n",
       "    </tr>\n",
       "  </tbody>\n",
       "</table>\n",
       "</div>"
      ],
      "text/plain": [
       "            user_id        session_id session_date     session_start_ts  \\\n",
       "0  E302123B7000BFE4  F9AF61A0C2023832   2025-08-15  2025-08-15 17:47:35   \n",
       "1  2530F72E221829FB  85003A206CBDAC6F   2025-08-15  2025-08-15 16:42:14   \n",
       "2  876E020A4FC512F5  3677423E49D72DEE   2025-08-15  2025-08-15 12:30:00   \n",
       "3  2640B349E1D81584  956B45F5915CA225   2025-08-15  2025-08-15 15:31:31   \n",
       "4  94E1CBFAEF1F5EE9  83BF0DA35F9F1F40   2025-08-15  2025-08-15 21:33:53   \n",
       "\n",
       "  install_date  session_number  registration_flag  page_counter region  \\\n",
       "0   2025-08-15               1                  0             3    CIS   \n",
       "1   2025-08-15               1                  0             4   MENA   \n",
       "2   2025-08-15               1                  0             4     EU   \n",
       "3   2025-08-15               1                  0             4    CIS   \n",
       "4   2025-08-15               1                  0             3    CIS   \n",
       "\n",
       "    device  \n",
       "0   iPhone  \n",
       "1  Android  \n",
       "2       PC  \n",
       "3  Android  \n",
       "4  Android  "
      ]
     },
     "execution_count": 2,
     "metadata": {},
     "output_type": "execute_result"
    }
   ],
   "source": [
    "# Выгружаем данные в переменную sessions_history\n",
    "sessions_history = pd.read_csv(..............................)\n",
    "\n",
    "# Выводим строки датафрейма на экран\n",
    "(sessions_history.head())"
   ]
  },
  {
   "cell_type": "code",
   "execution_count": 3,
   "metadata": {},
   "outputs": [
    {
     "name": "stdout",
     "output_type": "stream",
     "text": [
      "<class 'pandas.core.frame.DataFrame'>\n",
      "RangeIndex: 435924 entries, 0 to 435923\n",
      "Data columns (total 10 columns):\n",
      " #   Column             Non-Null Count   Dtype \n",
      "---  ------             --------------   ----- \n",
      " 0   user_id            435924 non-null  object\n",
      " 1   session_id         435924 non-null  object\n",
      " 2   session_date       435924 non-null  object\n",
      " 3   session_start_ts   435924 non-null  object\n",
      " 4   install_date       435924 non-null  object\n",
      " 5   session_number     435924 non-null  int64 \n",
      " 6   registration_flag  435924 non-null  int64 \n",
      " 7   page_counter       435924 non-null  int64 \n",
      " 8   region             435924 non-null  object\n",
      " 9   device             435924 non-null  object\n",
      "dtypes: int64(3), object(7)\n",
      "memory usage: 33.3+ MB\n"
     ]
    }
   ],
   "source": [
    "# Выводим информацию о датафрейме\n",
    "sessions_history.info()"
   ]
  },
  {
   "cell_type": "code",
   "execution_count": 4,
   "metadata": {},
   "outputs": [],
   "source": [
    "# Переводим нужные столбцы в формат \"дата\"\n",
    "sessions_history['session_date'] = pd.to_datetime(sessions_history['session_date']).dt.normalize()\n",
    "sessions_history['install_date'] = pd.to_datetime(sessions_history['install_date']).dt.normalize()\n",
    "\n",
    "# Переводим нужный столбец в формат \"дата и время\"\n",
    "sessions_history['session_start_ts'] = pd.to_datetime(sessions_history['session_start_ts'])"
   ]
  },
  {
   "cell_type": "code",
   "execution_count": 5,
   "metadata": {},
   "outputs": [
    {
     "data": {
      "text/plain": [
       "user_id                      object\n",
       "session_id                   object\n",
       "session_date         datetime64[ns]\n",
       "session_start_ts     datetime64[ns]\n",
       "install_date         datetime64[ns]\n",
       "session_number                int64\n",
       "registration_flag             int64\n",
       "page_counter                  int64\n",
       "region                       object\n",
       "device                       object\n",
       "dtype: object"
      ]
     },
     "execution_count": 5,
     "metadata": {},
     "output_type": "execute_result"
    }
   ],
   "source": [
    "# Проверяем типы данных\n",
    "(sessions_history.dtypes)"
   ]
  },
  {
   "cell_type": "markdown",
   "metadata": {
    "id": "qTDoiODz0eMo"
   },
   "source": [
    "#### 1.2. Знакомство с данными\n",
    "- Для каждого уникального пользователя `user_id` рассчитаем количество уникальных сессий `session_id`.\n",
    "\n",
    "- Выводим на экран все данные из таблицы `sessions_history` для одного пользователя с наибольшим количеством сессий. Если таких пользователей несколько, выбираем любого из них.\n",
    "\n",
    "- Изучаем таблицу для одного пользователя, чтобы лучше понять логику формирования каждого столбца данных."
   ]
  },
  {
   "cell_type": "code",
   "execution_count": 6,
   "metadata": {
    "id": "PWZO9vTIPbPN"
   },
   "outputs": [
    {
     "data": {
      "text/html": [
       "<div>\n",
       "<style scoped>\n",
       "    .dataframe tbody tr th:only-of-type {\n",
       "        vertical-align: middle;\n",
       "    }\n",
       "\n",
       "    .dataframe tbody tr th {\n",
       "        vertical-align: top;\n",
       "    }\n",
       "\n",
       "    .dataframe thead th {\n",
       "        text-align: right;\n",
       "    }\n",
       "</style>\n",
       "<table border=\"1\" class=\"dataframe\">\n",
       "  <thead>\n",
       "    <tr style=\"text-align: right;\">\n",
       "      <th></th>\n",
       "      <th>user_id</th>\n",
       "      <th>session_count</th>\n",
       "    </tr>\n",
       "  </thead>\n",
       "  <tbody>\n",
       "    <tr>\n",
       "      <th>8948</th>\n",
       "      <td>10E0DEFC1ABDBBE0</td>\n",
       "      <td>10</td>\n",
       "    </tr>\n",
       "    <tr>\n",
       "      <th>55627</th>\n",
       "      <td>6A73CB5566BB494D</td>\n",
       "      <td>10</td>\n",
       "    </tr>\n",
       "    <tr>\n",
       "      <th>72346</th>\n",
       "      <td>8A60431A825D035B</td>\n",
       "      <td>9</td>\n",
       "    </tr>\n",
       "    <tr>\n",
       "      <th>109383</th>\n",
       "      <td>D11541BAC141FB94</td>\n",
       "      <td>9</td>\n",
       "    </tr>\n",
       "    <tr>\n",
       "      <th>47956</th>\n",
       "      <td>5BCFE7C4DCC148E9</td>\n",
       "      <td>9</td>\n",
       "    </tr>\n",
       "  </tbody>\n",
       "</table>\n",
       "</div>"
      ],
      "text/plain": [
       "                 user_id  session_count\n",
       "8948    10E0DEFC1ABDBBE0             10\n",
       "55627   6A73CB5566BB494D             10\n",
       "72346   8A60431A825D035B              9\n",
       "109383  D11541BAC141FB94              9\n",
       "47956   5BCFE7C4DCC148E9              9"
      ]
     },
     "execution_count": 6,
     "metadata": {},
     "output_type": "execute_result"
    }
   ],
   "source": [
    "# Рассчитаем для каждого уникального пользователя количество уникальных сессий\n",
    "# Группируем по user_id и посчитаем количество уник.session_id\n",
    "session_counts = sessions_history.groupby('user_id')['session_id'].nunique().reset_index()\n",
    "session_counts.columns = ['user_id', 'session_count']\n",
    "\n",
    "# Сортируем по убыванию, чтобы найти пользователя с наибольшим числом сессий\n",
    "session_counts = session_counts.sort_values(by='session_count', ascending=False)\n",
    "\n",
    "# Выводим топ-5 для проверки\n",
    "(session_counts.head())"
   ]
  },
  {
   "cell_type": "code",
   "execution_count": 7,
   "metadata": {},
   "outputs": [
    {
     "data": {
      "text/html": [
       "<div>\n",
       "<style scoped>\n",
       "    .dataframe tbody tr th:only-of-type {\n",
       "        vertical-align: middle;\n",
       "    }\n",
       "\n",
       "    .dataframe tbody tr th {\n",
       "        vertical-align: top;\n",
       "    }\n",
       "\n",
       "    .dataframe thead th {\n",
       "        text-align: right;\n",
       "    }\n",
       "</style>\n",
       "<table border=\"1\" class=\"dataframe\">\n",
       "  <thead>\n",
       "    <tr style=\"text-align: right;\">\n",
       "      <th></th>\n",
       "      <th>user_id</th>\n",
       "      <th>session_id</th>\n",
       "      <th>session_date</th>\n",
       "      <th>session_start_ts</th>\n",
       "      <th>install_date</th>\n",
       "      <th>session_number</th>\n",
       "      <th>registration_flag</th>\n",
       "      <th>page_counter</th>\n",
       "      <th>region</th>\n",
       "      <th>device</th>\n",
       "    </tr>\n",
       "  </thead>\n",
       "  <tbody>\n",
       "    <tr>\n",
       "      <th>115558</th>\n",
       "      <td>10E0DEFC1ABDBBE0</td>\n",
       "      <td>B8F0423BBFFCF5DC</td>\n",
       "      <td>2025-08-14</td>\n",
       "      <td>2025-08-14 13:57:39</td>\n",
       "      <td>2025-08-14</td>\n",
       "      <td>1</td>\n",
       "      <td>0</td>\n",
       "      <td>4</td>\n",
       "      <td>CIS</td>\n",
       "      <td>Android</td>\n",
       "    </tr>\n",
       "    <tr>\n",
       "      <th>191751</th>\n",
       "      <td>10E0DEFC1ABDBBE0</td>\n",
       "      <td>87CA2FA549473837</td>\n",
       "      <td>2025-08-15</td>\n",
       "      <td>2025-08-15 16:42:10</td>\n",
       "      <td>2025-08-14</td>\n",
       "      <td>2</td>\n",
       "      <td>0</td>\n",
       "      <td>3</td>\n",
       "      <td>CIS</td>\n",
       "      <td>Android</td>\n",
       "    </tr>\n",
       "    <tr>\n",
       "      <th>239370</th>\n",
       "      <td>10E0DEFC1ABDBBE0</td>\n",
       "      <td>4ADD8011DCDCE318</td>\n",
       "      <td>2025-08-16</td>\n",
       "      <td>2025-08-16 19:53:21</td>\n",
       "      <td>2025-08-14</td>\n",
       "      <td>3</td>\n",
       "      <td>0</td>\n",
       "      <td>3</td>\n",
       "      <td>CIS</td>\n",
       "      <td>Android</td>\n",
       "    </tr>\n",
       "    <tr>\n",
       "      <th>274629</th>\n",
       "      <td>10E0DEFC1ABDBBE0</td>\n",
       "      <td>DF0FD0E09BF1F3D7</td>\n",
       "      <td>2025-08-17</td>\n",
       "      <td>2025-08-17 15:03:43</td>\n",
       "      <td>2025-08-14</td>\n",
       "      <td>4</td>\n",
       "      <td>0</td>\n",
       "      <td>1</td>\n",
       "      <td>CIS</td>\n",
       "      <td>Android</td>\n",
       "    </tr>\n",
       "    <tr>\n",
       "      <th>302501</th>\n",
       "      <td>10E0DEFC1ABDBBE0</td>\n",
       "      <td>3C221774B4DE6885</td>\n",
       "      <td>2025-08-18</td>\n",
       "      <td>2025-08-18 17:29:14</td>\n",
       "      <td>2025-08-14</td>\n",
       "      <td>5</td>\n",
       "      <td>0</td>\n",
       "      <td>4</td>\n",
       "      <td>CIS</td>\n",
       "      <td>Android</td>\n",
       "    </tr>\n",
       "  </tbody>\n",
       "</table>\n",
       "</div>"
      ],
      "text/plain": [
       "                 user_id        session_id session_date    session_start_ts  \\\n",
       "115558  10E0DEFC1ABDBBE0  B8F0423BBFFCF5DC   2025-08-14 2025-08-14 13:57:39   \n",
       "191751  10E0DEFC1ABDBBE0  87CA2FA549473837   2025-08-15 2025-08-15 16:42:10   \n",
       "239370  10E0DEFC1ABDBBE0  4ADD8011DCDCE318   2025-08-16 2025-08-16 19:53:21   \n",
       "274629  10E0DEFC1ABDBBE0  DF0FD0E09BF1F3D7   2025-08-17 2025-08-17 15:03:43   \n",
       "302501  10E0DEFC1ABDBBE0  3C221774B4DE6885   2025-08-18 2025-08-18 17:29:14   \n",
       "\n",
       "       install_date  session_number  registration_flag  page_counter region  \\\n",
       "115558   2025-08-14               1                  0             4    CIS   \n",
       "191751   2025-08-14               2                  0             3    CIS   \n",
       "239370   2025-08-14               3                  0             3    CIS   \n",
       "274629   2025-08-14               4                  0             1    CIS   \n",
       "302501   2025-08-14               5                  0             4    CIS   \n",
       "\n",
       "         device  \n",
       "115558  Android  \n",
       "191751  Android  \n",
       "239370  Android  \n",
       "274629  Android  \n",
       "302501  Android  "
      ]
     },
     "execution_count": 7,
     "metadata": {},
     "output_type": "execute_result"
    }
   ],
   "source": [
    "# Выбираем пользователя с наибольшим количеством сессий\n",
    "top_user_id = session_counts.iloc[0]['user_id']\n",
    "\n",
    "# Фильтруем исходную таблицу, оставляя только данные этого пользователя\n",
    "user_data = sessions_history[sessions_history['user_id']==top_user_id]\n",
    "\n",
    "# Выводим все данные по этому пользователю\n",
    "(user_data.head())"
   ]
  },
  {
   "cell_type": "markdown",
   "metadata": {},
   "source": [
    "#### Промежуточные выводы\n",
    "\n",
    "Пользователь с наибольшим количеством сессий найден и это - `10E0DEFC1ABDBBE0`, у которого **10 сессий** в приложении в период `2025-08-14 по 2025-08-25`.\n",
    "\n",
    "- Пользователь **регулярно возращается** в приложение\n",
    "- У него **высокая вовлеченность**\n",
    "- Является **ключевым пользователем**, возможно является **потенциальным фанатом продукта**\n",
    "\n",
    "Из полученной таблицы можно увидеть, что установка произошла `2025-08-14`, и в этот же день была 1я сессия.\n",
    "В течение `11 дней`, пользователь открывал приложение, почти что ежедневно.\n",
    "Все сессии происходили с устройства `Android`.\n",
    "Однако, данный пользователь остается незарегистрированным пользователем, помимо этого просматривает в среднем `2-3 страницы за сессию` и у него регион `CIS`."
   ]
  },
  {
   "cell_type": "markdown",
   "metadata": {
    "id": "CmcGpJTP0eMq"
   },
   "source": [
    "#### 1.3. Анализ числа регистраций\n",
    "Одна из важнейших метрик продукта — число зарегистрированных пользователей. Используя исторические данные, визуализируем, как менялось число регистраций в приложении за время его существования.\n",
    "\n",
    "- Агрегируем исторические данные и рассчитаем число уникальных пользователей и число зарегистрированных пользователей для каждого дня наблюдения. Для простоты посчитаем, что у пользователя в течение дня бывает одна сессия максимум и статус регистрации в течение одного дня не может измениться.\n",
    "\n",
    "- Построим линейные графики общего числа пользователей и общего числа зарегистрированных пользователей по дням. Отобразим их на одном графике.\n",
    "\n",
    "- Построим отдельный линейный график доли зарегистрированных пользователей от всех пользователей по дням."
   ]
  },
  {
   "cell_type": "code",
   "execution_count": 8,
   "metadata": {
    "id": "tN_6Ml3EPatS"
   },
   "outputs": [
    {
     "data": {
      "image/png": "[encoded data removed]",
      "text/plain": [
       "<Figure size 1008x432 with 1 Axes>"
      ]
     },
     "metadata": {
      "needs_background": "light"
     },
     "output_type": "display_data"
    }
   ],
   "source": [
    "# Сгруппируем данные по сессии\n",
    "daily_data = sessions_history.groupby('session_date').agg(\n",
    "    total_users=('user_id', 'nunique'),\n",
    "    registered_users=('registration_flag', 'sum'))\n",
    "\n",
    "# Строим графики\n",
    "plt.figure(figsize=(14, 6))\n",
    "\n",
    "plt.plot(daily_data.index, daily_data['total_users'], label='Все пользователи')\n",
    "plt.plot(daily_data.index, daily_data['registered_users'], label='Зарегистрированные пользователи')\n",
    "\n",
    "# Оформление\n",
    "plt.title('Динамика пользователей по дням')\n",
    "plt.xlabel('Дата')\n",
    "plt.ylabel('Число пользователей')\n",
    "plt.grid(True)\n",
    "plt.legend()\n",
    "plt.xticks(rotation=45)\n",
    "plt.tight_layout()\n",
    "\n",
    "# Отображение графика\n",
    "plt.show()"
   ]
  },
  {
   "cell_type": "code",
   "execution_count": 9,
   "metadata": {},
   "outputs": [
    {
     "data": {
      "image/png": "[encoded data removed]",
      "text/plain": [
       "<Figure size 1008x432 with 1 Axes>"
      ]
     },
     "metadata": {
      "needs_background": "light"
     },
     "output_type": "display_data"
    }
   ],
   "source": [
    "# Вычисляем долю зарегистрированных\n",
    "daily_data['reg_ratio'] = daily_data['registered_users'] / daily_data['total_users']\n",
    "\n",
    "# Строим график доли\n",
    "plt.figure(figsize=(14, 6))\n",
    "\n",
    "plt.plot(daily_data.index, daily_data['reg_ratio'], color='green', label='Доля зарегистрированных пользователей')\n",
    "\n",
    "# Оформляем графики\n",
    "plt.title('Доля зарегистрированных пользователей по дням')\n",
    "plt.xlabel('Дата')\n",
    "plt.ylabel('Доля (%)')\n",
    "plt.grid(True)\n",
    "plt.legend()\n",
    "plt.xticks(rotation=45)\n",
    "plt.tight_layout()\n",
    "\n",
    "# Показываем график\n",
    "plt.show()"
   ]
  },
  {
   "cell_type": "markdown",
   "metadata": {},
   "source": [
    "#### Промежуточные выводы\n",
    "\n",
    "На графике 1 показано количество **всех пользователей** (синяя линия) и **зарегистрированных пользователей** (оранжевая линия) за каждый день.\n",
    "\n",
    "- Общее число пользователей `total_users` практически постоянное, около `130 000 пользователей в день`. Динамика стабильная, без резких пиков или спадов.\n",
    "- Число зарегистрированных пользователей `registered_users` крайне мало, около `500 пользователей в день`.\n",
    "\n",
    "Из этого можно сделать вывод:\n",
    "- **Низкая активность** - большинство пользователей не регистрируются в приложении, возможно нет мотивации, или возникают сложности в процессе регистрации.\n",
    "- **Стабильная аудитория** - несмотря на отсутствие регистрации, общее число пользователей остается стабильным.\n",
    "- **Потенциал для улучшений** - в связи с низким уровнем регистрации, возникает возможность оптимизировать процесс регистрации или добавления инструментов, которые поспособствуют дальнейшей регистрации.\n",
    "\n",
    "\n",
    "На графике 2 отображена **доля зарегистрированных пользователей** от общего числа пользователей.\n",
    "\n",
    "Доля стартует с небольшого значения `~0.001` и достигает макс. `~0.12`, затем снижается к концу периода.\n",
    "\n",
    "Из этого можно сделать вывод:\n",
    "- Доля регистрации - определенно существует некая проблема с регистрацией.\n",
    "- Тенденция снижения - после достижения пика доля зарегистрированных пользователей падает, возможно это связано с изменением трафика, изменение интерфейса или функционала приложения, влияние сезонных факторов или внешних событий.\n",
    "- Необходимость анализа причин - главный вопрос: **почему пользователи не регистрируются, как можно повысить данный показатель**?"
   ]
  },
  {
   "cell_type": "markdown",
   "metadata": {
    "id": "UR7D7RhF0eMr"
   },
   "source": [
    "#### 1.4. Анализ числа просмотренных страниц\n",
    "Другая важная метрика продукта — число просмотренных страниц в приложении. Чем больше страниц просмотрено, тем сильнее пользователь увлечён контентом, а значит, выше шансы на то, что он зарегистрируется и оплатит подписку.\n",
    "\n",
    "- Найдем количество сессий для каждого значения количества просмотренных страниц. Например: одну страницу просмотрели в 29160 сессиях, две страницы в 105536 сессиях и так далее.\n",
    "\n",
    "- Построим столбчатую диаграмму, где по оси X будет число просмотренных страниц, по оси Y — количество сессий."
   ]
  },
  {
   "cell_type": "code",
   "execution_count": 10,
   "metadata": {
    "id": "cb6hPlVzPaSf"
   },
   "outputs": [
    {
     "data": {
      "text/plain": [
       "1     29160\n",
       "2    105536\n",
       "3    166690\n",
       "4    105569\n",
       "5     26288\n",
       "6      2589\n",
       "7        92\n",
       "Name: page_counter, dtype: int64"
      ]
     },
     "execution_count": 10,
     "metadata": {},
     "output_type": "execute_result"
    }
   ],
   "source": [
    "# Сгруппируем по page_counter и посчитаем количество сессий\n",
    "page_distribution = sessions_history['page_counter'].value_counts().sort_index()\n",
    "\n",
    "# Выводим на экран таблицу\n",
    "(page_distribution)"
   ]
  },
  {
   "cell_type": "code",
   "execution_count": 11,
   "metadata": {},
   "outputs": [
    {
     "data": {
      "image/png": "[encoded data removed]",
      "text/plain": [
       "<Figure size 864x432 with 1 Axes>"
      ]
     },
     "metadata": {
      "needs_background": "light"
     },
     "output_type": "display_data"
    }
   ],
   "source": [
    "# Строим столбчатую диаграмму\n",
    "plt.figure(figsize=(12, 6))\n",
    "plt.bar(page_distribution.index, page_distribution.values, color='skyblue')\n",
    "\n",
    "# Оформляем графики\n",
    "plt.title('Распределение сессий по количеству просмотренных страниц')\n",
    "plt.xlabel('Количество просмотренных страниц')\n",
    "plt.ylabel('Число сессий')\n",
    "plt.grid(axis='y', linestyle='--', alpha=0.7)\n",
    "plt.xticks(page_distribution.index)\n",
    "\n",
    "# Показываем график\n",
    "plt.tight_layout()\n",
    "plt.show()"
   ]
  },
  {
   "cell_type": "markdown",
   "metadata": {},
   "source": [
    "#### Промежуточные выводы\n",
    "\n",
    "На графике 3 показано распределение сессий по количеству просмотренных страниц, где по оси Х - количество просмотренных страниц `page_counter`, а по оси Y - число сессий, в которых было просмотрено соответвующее количество страниц.\n",
    "\n",
    "Пик приходится на 3 просмотренные страницы, что означает, что большинство пользователей просматривают именно **3 страницы за одну сессию**."
   ]
  },
  {
   "cell_type": "markdown",
   "metadata": {
    "id": "xDltSpVP0eMr"
   },
   "source": [
    "#### 1.5. Доля пользователей, просмотревших более четырёх страниц\n",
    "Продуктовая команда продукта считает, что сессии, в рамках которых пользователь просмотрел 4 и более страниц, говорят об удовлетворённости контентом и алгоритмами рекомендаций. Этот показатель является важной прокси-метрикой для продукта.\n",
    "\n",
    "- В датафрейме `sessions_history` создаем дополнительный столбец `good_session`. В него войдёт значение `1`, если за одну сессию было просмотрено 4 и более страниц, и значение `0`, если было просмотрено меньше.\n",
    "\n",
    "- Построим график со средним значением доли успешных сессий ко всем сессиям по дням за весь период наблюдения."
   ]
  },
  {
   "cell_type": "code",
   "execution_count": 12,
   "metadata": {
    "id": "iygaPfixPYMW"
   },
   "outputs": [
    {
     "data": {
      "image/png": "[encoded data removed]",
      "text/plain": [
       "<Figure size 1008x432 with 1 Axes>"
      ]
     },
     "metadata": {
      "needs_background": "light"
     },
     "output_type": "display_data"
    }
   ],
   "source": [
    "# Создаем новый столбец good_session\n",
    "sessions_history['good_session'] = (sessions_history['page_counter'] >=4).astype(int)\n",
    "\n",
    "# Сгруппируем по дате сессии и посчитаем метрики\n",
    "daily_good_sessions = (\n",
    "    sessions_history\n",
    "    .groupby('session_date')\n",
    "    .agg(total_sessions=('good_session', 'count'),\n",
    "         good_sessions=('good_session', 'sum')\n",
    "        )\n",
    ")\n",
    "\n",
    "# Вычисляем долю успешных сессий\n",
    "daily_good_sessions['good_session_ratio']=daily_good_sessions['good_sessions'] / daily_good_sessions['total_sessions']\n",
    "\n",
    "# Строим график\n",
    "plt.figure(figsize=(14, 6))\n",
    "plt.plot(\n",
    "    daily_good_sessions.index,\n",
    "    daily_good_sessions['good_session_ratio'],\n",
    "    color='green',\n",
    "    label='Доля успешных сессий'\n",
    ")\n",
    "\n",
    "# Оформление графика\n",
    "plt.title('Доля успешных сессий (4+ страниц) по дням')\n",
    "plt.xlabel('Дата')\n",
    "plt.ylabel('Доля успешных сессий')\n",
    "plt.grid(True)\n",
    "plt.legend()\n",
    "plt.xticks(rotation=45)\n",
    "plt.tight_layout()\n",
    "\n",
    "# Показываем график\n",
    "plt.show()"
   ]
  },
  {
   "cell_type": "markdown",
   "metadata": {},
   "source": [
    "#### Промежуточные выводы\n",
    "\n",
    "На графике 4 показана доля успешных сессий, где за одну сессию было просмотрено 4 и более страниц.\n",
    "\n",
    "- **Общая тенденция** - средняя доля успешных сессий находится в диапазоне `0.3-0.315`, то есть `30-31.5%` сессий соответствуют критерию **удовлетворенности контентом**.\n",
    "- **Периодические пики/спады** - наблюдаются колебания, которые могут быть вызваны изменениями в алгоритме рекомендаций, маркетинговыми кампаниями, акциями, сезонными факторами или изменениями в интерфейсе.\n",
    "- **Значительное снижение к концу периода** - ближе к октябрю/ноябрю, доля успешных сессий падает до `0.29`, то есть `29%` сессий, возможно ухудшилось качество рекомендаций, возможные проблемы с контентом либо просто сезонный спад активности."
   ]
  },
  {
   "cell_type": "markdown",
   "metadata": {
    "id": "21JcG77Y0eMt"
   },
   "source": [
    "### 2. Подготовка к тесту\n",
    "При планировании теста необходимо проделать несколько важных шагов:\n",
    "\n",
    "- Определиться с целевой метрикой.\n",
    "\n",
    "- Рассчитать необходимый размер выборки.\n",
    "\n",
    "- Исходя из текущих значений трафика, рассчитать необходимую длительность проведения теста."
   ]
  },
  {
   "cell_type": "markdown",
   "metadata": {
    "id": "uzaeln270eMt"
   },
   "source": [
    "#### 2.1. Расчёт размера выборки\n",
    "\n",
    "Устанавливаем следующие параметры:\n",
    "\n",
    "- Уровень значимости — 0.05.\n",
    "\n",
    "- Вероятность ошибки второго рода — 0.2.\n",
    "\n",
    "- Мощность теста.\n",
    "\n",
    "- Минимальный детектируемый эффект, или MDE, — 3%. \n",
    "\n",
    "При расчёте размера выборки используем метод `solve_power()` из класса `power.NormalIndPower` модуля `statsmodels.stats`."
   ]
  },
  {
   "cell_type": "code",
   "execution_count": 13,
   "metadata": {
    "id": "zSxJyPGPNdaI"
   },
   "outputs": [
    {
     "data": {
      "text/plain": [
       "'Необходимый размер выборки для каждой группы: 17441'"
      ]
     },
     "execution_count": 13,
     "metadata": {},
     "output_type": "execute_result"
    }
   ],
   "source": [
    "# Задаём параметры\n",
    "alpha = 0.05  # Уровень значимости\n",
    "beta = 0.2  # Ошибка второго рода, часто 1 - мощность\n",
    "power = 1 - beta  # Мощность теста\n",
    "mde = 0.03  # Минимальный детектируемый эффект\n",
    "\n",
    "# Инициализируем класс NormalIndPower\n",
    "power_analysis = NormalIndPower()\n",
    "\n",
    "# Рассчитываем размер выборки\n",
    "sample_size = power_analysis.solve_power(\n",
    "    effect_size = mde,\n",
    "    power = power,\n",
    "    alpha = alpha,\n",
    "    ratio = 1 # Равномерное распределение выборок\n",
    ")\n",
    "\n",
    "(f\"Необходимый размер выборки для каждой группы: {int(sample_size)}\")"
   ]
  },
  {
   "cell_type": "markdown",
   "metadata": {
    "id": "qLEv4RoV0eMu"
   },
   "source": [
    "#### 2.1. Расчёт длительности A/B-теста\n",
    "\n",
    "Используем данные о количестве пользователей в каждой выборке и среднем количестве пользователей приложения. Рассчитаем длительность теста, разделив одно на другое.\n",
    "\n",
    "- Рассчитаем среднее количество уникальных пользователей приложения в день.\n",
    "\n",
    "- Определим длительность теста, исходя из рассчитанного значения размера выборок и среднего дневного трафика приложения. Количество дней округлим в большую сторону."
   ]
  },
  {
   "cell_type": "code",
   "execution_count": 14,
   "metadata": {
    "id": "KZDRbryDOGHa"
   },
   "outputs": [
    {
     "data": {
      "text/plain": [
       "'Рассчитанная длительность A/B-теста при текущем уровне трафика в 9907 пользователей в день составит 4 дня'"
      ]
     },
     "execution_count": 14,
     "metadata": {},
     "output_type": "execute_result"
    }
   ],
   "source": [
    "# Среднее количество пользователей приложения в день по историческим данным\n",
    "avg_daily_users = sessions_history.groupby('session_date')['user_id'].nunique().mean()\n",
    "\n",
    "# Размер выборки на одну группу\n",
    "sample_size_per_group = 17441\n",
    "\n",
    "# Рассчитываем длительность теста в днях как отношение размера выборки к среднему числу пользователей\n",
    "test_duration = ceil(sample_size_per_group / (avg_daily_users / 2))\n",
    "\n",
    "(f\"Рассчитанная длительность A/B-теста при текущем уровне трафика в {int(avg_daily_users)} пользователей в день составит {test_duration} дня\")"
   ]
  },
  {
   "cell_type": "markdown",
   "metadata": {},
   "source": [
    "#### Промежуточные выводы\n",
    "\n",
    "\n",
    "- Целевая метрика - для оценки эффективности нового алгоритма рекомендаций была выбрана **доля сессий, в которых пользователь просмотрел 4 и более страниц**, показатель вовлеченности контента. \n",
    "\n",
    "`чем выше это доля - тем лучше работает алгоритм`\n",
    "\n",
    "- Основные параметры теста - `alpha = 0.05, power = 0.8, MDE = 0.03`\n",
    "- Необходимый размер выборки - `17441`\n",
    "- Среднее количество уникальных пользователей в день - `9907`\n",
    "\n",
    "Для того, чтобы тест был статистически корректным и мог надежно обнаружить эффект в `3%`, необходимо набрать `17441` пользователей в каждую группу, и для этого потребуется `~4дня`."
   ]
  },
  {
   "cell_type": "markdown",
   "metadata": {
    "id": "ZuvtAdha0eMv"
   },
   "source": [
    "### 3. Мониторинг А/В-теста"
   ]
  },
  {
   "cell_type": "markdown",
   "metadata": {
    "id": "jq5sE3Ya0eMv"
   },
   "source": [
    "#### 3.1. Проверка распределения пользователей\n",
    "\n",
    "A/B-тест успешно запущен, и уже доступны данные за первые три дня. На этом этапе нужно убедиться, что всё идёт хорошо: пользователи разделены правильным образом, а интересующие нас метрики корректно считаются.\n",
    "\n",
    "- Считаем и сохраняем в датафрейм `sessions_test_part` CSV-файл с историческими данными о сессиях пользователей.\n",
    "\n",
    "- Рассчитаем количество уникальных пользователей в каждой из экспериментальных групп для одного дня наблюдения.\n",
    "\n",
    "- Рассчитаем и выведем на экран процентную разницу в количестве пользователей в группах A и B. Построим любую удобную визуализацию, на которой можно было бы увидеть возможное различие двух групп.\n",
    "\n",
    "Для расчёта процентной разницы воспользуемся формулой:\n",
    "$$P = 100 \\cdot  \\frac{|A − B|}{A}$$"
   ]
  },
  {
   "cell_type": "code",
   "execution_count": 15,
   "metadata": {
    "id": "G1bqIzDJOUiz"
   },
   "outputs": [
    {
     "data": {
      "text/html": [
       "<div>\n",
       "<style scoped>\n",
       "    .dataframe tbody tr th:only-of-type {\n",
       "        vertical-align: middle;\n",
       "    }\n",
       "\n",
       "    .dataframe tbody tr th {\n",
       "        vertical-align: top;\n",
       "    }\n",
       "\n",
       "    .dataframe thead th {\n",
       "        text-align: right;\n",
       "    }\n",
       "</style>\n",
       "<table border=\"1\" class=\"dataframe\">\n",
       "  <thead>\n",
       "    <tr style=\"text-align: right;\">\n",
       "      <th></th>\n",
       "      <th>user_id</th>\n",
       "      <th>session_id</th>\n",
       "      <th>session_date</th>\n",
       "      <th>session_start_ts</th>\n",
       "      <th>install_date</th>\n",
       "      <th>session_number</th>\n",
       "      <th>registration_flag</th>\n",
       "      <th>page_counter</th>\n",
       "      <th>region</th>\n",
       "      <th>device</th>\n",
       "      <th>test_group</th>\n",
       "    </tr>\n",
       "  </thead>\n",
       "  <tbody>\n",
       "    <tr>\n",
       "      <th>0</th>\n",
       "      <td>3404844B53442747</td>\n",
       "      <td>B4901323BD537E45</td>\n",
       "      <td>2025-10-14</td>\n",
       "      <td>2025-10-14 19:28:49</td>\n",
       "      <td>2025-10-14</td>\n",
       "      <td>1</td>\n",
       "      <td>0</td>\n",
       "      <td>3</td>\n",
       "      <td>CIS</td>\n",
       "      <td>Android</td>\n",
       "      <td>B</td>\n",
       "    </tr>\n",
       "    <tr>\n",
       "      <th>1</th>\n",
       "      <td>3A2BF4D364E62D89</td>\n",
       "      <td>216FC619308F8788</td>\n",
       "      <td>2025-10-14</td>\n",
       "      <td>2025-10-14 21:11:04</td>\n",
       "      <td>2025-10-14</td>\n",
       "      <td>1</td>\n",
       "      <td>0</td>\n",
       "      <td>3</td>\n",
       "      <td>MENA</td>\n",
       "      <td>iPhone</td>\n",
       "      <td>A</td>\n",
       "    </tr>\n",
       "    <tr>\n",
       "      <th>2</th>\n",
       "      <td>79CDAE11E32B1597</td>\n",
       "      <td>EDFCE4AC1A504074</td>\n",
       "      <td>2025-10-14</td>\n",
       "      <td>2025-10-14 21:44:03</td>\n",
       "      <td>2025-10-14</td>\n",
       "      <td>1</td>\n",
       "      <td>0</td>\n",
       "      <td>3</td>\n",
       "      <td>CIS</td>\n",
       "      <td>iPhone</td>\n",
       "      <td>A</td>\n",
       "    </tr>\n",
       "    <tr>\n",
       "      <th>3</th>\n",
       "      <td>D6AF8D78297A931F</td>\n",
       "      <td>CF0AC0EEDE92C690</td>\n",
       "      <td>2025-10-14</td>\n",
       "      <td>2025-10-14 19:07:55</td>\n",
       "      <td>2025-10-14</td>\n",
       "      <td>1</td>\n",
       "      <td>0</td>\n",
       "      <td>4</td>\n",
       "      <td>CIS</td>\n",
       "      <td>PC</td>\n",
       "      <td>A</td>\n",
       "    </tr>\n",
       "    <tr>\n",
       "      <th>4</th>\n",
       "      <td>37E0CE723AE568E0</td>\n",
       "      <td>2E6ED45E8C86C4E9</td>\n",
       "      <td>2025-10-14</td>\n",
       "      <td>2025-10-14 15:39:44</td>\n",
       "      <td>2025-10-14</td>\n",
       "      <td>1</td>\n",
       "      <td>0</td>\n",
       "      <td>3</td>\n",
       "      <td>CIS</td>\n",
       "      <td>Mac</td>\n",
       "      <td>B</td>\n",
       "    </tr>\n",
       "  </tbody>\n",
       "</table>\n",
       "</div>"
      ],
      "text/plain": [
       "            user_id        session_id session_date     session_start_ts  \\\n",
       "0  3404844B53442747  B4901323BD537E45   2025-10-14  2025-10-14 19:28:49   \n",
       "1  3A2BF4D364E62D89  216FC619308F8788   2025-10-14  2025-10-14 21:11:04   \n",
       "2  79CDAE11E32B1597  EDFCE4AC1A504074   2025-10-14  2025-10-14 21:44:03   \n",
       "3  D6AF8D78297A931F  CF0AC0EEDE92C690   2025-10-14  2025-10-14 19:07:55   \n",
       "4  37E0CE723AE568E0  2E6ED45E8C86C4E9   2025-10-14  2025-10-14 15:39:44   \n",
       "\n",
       "  install_date  session_number  registration_flag  page_counter region  \\\n",
       "0   2025-10-14               1                  0             3    CIS   \n",
       "1   2025-10-14               1                  0             3   MENA   \n",
       "2   2025-10-14               1                  0             3    CIS   \n",
       "3   2025-10-14               1                  0             4    CIS   \n",
       "4   2025-10-14               1                  0             3    CIS   \n",
       "\n",
       "    device test_group  \n",
       "0  Android          B  \n",
       "1   iPhone          A  \n",
       "2   iPhone          A  \n",
       "3       PC          A  \n",
       "4      Mac          B  "
      ]
     },
     "execution_count": 15,
     "metadata": {},
     "output_type": "execute_result"
    }
   ],
   "source": [
    "# Загружаем данные теста\n",
    "sessions_test_part = pd.read_csv(............................)\n",
    "\n",
    "# Проверяем, как выглядит таблица\n",
    "(sessions_test_part.head())"
   ]
  },
  {
   "cell_type": "code",
   "execution_count": 16,
   "metadata": {},
   "outputs": [
    {
     "name": "stdout",
     "output_type": "stream",
     "text": [
      "<class 'pandas.core.frame.DataFrame'>\n",
      "RangeIndex: 3130 entries, 0 to 3129\n",
      "Data columns (total 11 columns):\n",
      " #   Column             Non-Null Count  Dtype \n",
      "---  ------             --------------  ----- \n",
      " 0   user_id            3130 non-null   object\n",
      " 1   session_id         3130 non-null   object\n",
      " 2   session_date       3130 non-null   object\n",
      " 3   session_start_ts   3130 non-null   object\n",
      " 4   install_date       3130 non-null   object\n",
      " 5   session_number     3130 non-null   int64 \n",
      " 6   registration_flag  3130 non-null   int64 \n",
      " 7   page_counter       3130 non-null   int64 \n",
      " 8   region             3130 non-null   object\n",
      " 9   device             3130 non-null   object\n",
      " 10  test_group         3130 non-null   object\n",
      "dtypes: int64(3), object(8)\n",
      "memory usage: 269.1+ KB\n"
     ]
    }
   ],
   "source": [
    "# Выводим информацию о датафрейме\n",
    "sessions_test_part.info()"
   ]
  },
  {
   "cell_type": "code",
   "execution_count": 17,
   "metadata": {},
   "outputs": [],
   "source": [
    "# Переводим нужные столбцы в формат \"дата\"\n",
    "sessions_test_part['session_date'] = pd.to_datetime(sessions_test_part['session_date']).dt.normalize()\n",
    "sessions_test_part['install_date'] = pd.to_datetime(sessions_test_part['install_date']).dt.normalize()\n",
    "\n",
    "# Переводим нужный столбец в формат \"дата и время\"\n",
    "sessions_test_part['session_start_ts'] = pd.to_datetime(sessions_test_part['session_start_ts'])"
   ]
  },
  {
   "cell_type": "code",
   "execution_count": 18,
   "metadata": {},
   "outputs": [
    {
     "data": {
      "text/plain": [
       "user_id                      object\n",
       "session_id                   object\n",
       "session_date         datetime64[ns]\n",
       "session_start_ts     datetime64[ns]\n",
       "install_date         datetime64[ns]\n",
       "session_number                int64\n",
       "registration_flag             int64\n",
       "page_counter                  int64\n",
       "region                       object\n",
       "device                       object\n",
       "test_group                   object\n",
       "dtype: object"
      ]
     },
     "execution_count": 18,
     "metadata": {},
     "output_type": "execute_result"
    }
   ],
   "source": [
    "# Проверяем типы данных\n",
    "(sessions_test_part.dtypes)"
   ]
  },
  {
   "cell_type": "code",
   "execution_count": 19,
   "metadata": {},
   "outputs": [
    {
     "data": {
      "text/plain": [
       "test_group\n",
       "A    1477\n",
       "B    1466\n",
       "Name: user_id, dtype: int64"
      ]
     },
     "execution_count": 19,
     "metadata": {},
     "output_type": "execute_result"
    }
   ],
   "source": [
    "# Выбираем данные только за нужный день\n",
    "first_day = sessions_test_part[sessions_test_part['session_date']=='2025-10-14']\n",
    "\n",
    "# Рассчитаем уникальных пользователей в каждой группе\n",
    "users_by_group = first_day.groupby('test_group')['user_id'].nunique()\n",
    "\n",
    "# Выводим результат\n",
    "(users_by_group)"
   ]
  },
  {
   "cell_type": "code",
   "execution_count": 20,
   "metadata": {},
   "outputs": [
    {
     "data": {
      "text/plain": [
       "'Процентная разница между группами: 0.74%'"
      ]
     },
     "execution_count": 20,
     "metadata": {},
     "output_type": "execute_result"
    }
   ],
   "source": [
    "# Получаем значения\n",
    "a = users_by_group['A']\n",
    "b = users_by_group['B']\n",
    "\n",
    "# Считаем процентную разницу\n",
    "percentage_diff = 100 * abs(a-b)/a\n",
    "\n",
    "# Выводим результат\n",
    "(f\"Процентная разница между группами: {percentage_diff:.2f}%\")"
   ]
  },
  {
   "cell_type": "code",
   "execution_count": 21,
   "metadata": {},
   "outputs": [
    {
     "data": {
      "image/png": "[encoded data removed]",
      "text/plain": [
       "<Figure size 432x288 with 1 Axes>"
      ]
     },
     "metadata": {
      "needs_background": "light"
     },
     "output_type": "display_data"
    }
   ],
   "source": [
    "# Строим столбчатую диаграмму\n",
    "users_by_group.plot(kind='bar', color=['skyblue', 'salmon'], figsize=(6, 4))\n",
    "\n",
    "# Оформление графика\n",
    "plt.title('Число пользователей в группах A и B (первый день)')\n",
    "plt.xlabel('Тестовая группа')\n",
    "plt.ylabel('Число уникальных пользователей')\n",
    "plt.xticks(rotation=0)\n",
    "plt.grid(axis='y', linestyle='--', alpha=0.7)\n",
    "\n",
    "# Отображаем график\n",
    "plt.tight_layout()\n",
    "plt.show()"
   ]
  },
  {
   "cell_type": "markdown",
   "metadata": {
    "id": "sgpNY5bv0eM0"
   },
   "source": [
    "#### 3.2. Проверка пересечений пользователей\n",
    "\n",
    "- Рассчитаем количество пользователей, которые встречаются одновременно в группах A и B, убедимся, что таких нет."
   ]
  },
  {
   "cell_type": "code",
   "execution_count": 22,
   "metadata": {
    "id": "E72ozN9FOX1u"
   },
   "outputs": [
    {
     "data": {
      "text/plain": [
       "'Количество пользователей, попавших и в группу А, и в группу В: 0'"
      ]
     },
     "execution_count": 22,
     "metadata": {},
     "output_type": "execute_result"
    }
   ],
   "source": [
    "# Сгруппируем по user_id и соберем уникальные группы, в которых он встречается\n",
    "user_groups = sessions_test_part.groupby('user_id')['test_group'].nunique()\n",
    "\n",
    "# Оставляем только тех, кто встречается в обеих группах\n",
    "overlap_users = user_groups[user_groups == 2].index\n",
    "\n",
    "# Выводим количество таких пользователей\n",
    "num_overlap = len(overlap_users)\n",
    "(f\"Количество пользователей, попавших и в группу А, и в группу В: {num_overlap}\")"
   ]
  },
  {
   "cell_type": "markdown",
   "metadata": {
    "id": "6RvkNLrg0eM1"
   },
   "source": [
    "#### 3.3. Равномерность разделения пользователей по устройствам\n",
    "Полезно также убедиться в том, что пользователи равномерно распределены по всем доступным категориальным переменным — типам устройства и регионам.\n",
    "\n",
    "Построим две диаграммы:\n",
    "\n",
    "- доля каждого типа устройства для пользователей из группы A,\n",
    "\n",
    "- доля каждого типа устройства для пользователей из группы B.\n",
    "\n",
    "Добавим на диаграммы все необходимые подписи, пояснения и заголовки, которые позволят сделать вывод о том, совпадает ли распределение устройств в группах A и B."
   ]
  },
  {
   "cell_type": "code",
   "execution_count": 23,
   "metadata": {
    "id": "x_IP6PUNPWHC"
   },
   "outputs": [
    {
     "data": {
      "image/png": "[encoded data removed]",
      "text/plain": [
       "<Figure size 1008x432 with 2 Axes>"
      ]
     },
     "metadata": {
      "needs_background": "light"
     },
     "output_type": "display_data"
    }
   ],
   "source": [
    "# Разделяем пользователей по группам\n",
    "group_a = sessions_test_part[sessions_test_part['test_group'] == 'A']\n",
    "group_b = sessions_test_part[sessions_test_part['test_group'] == 'B']\n",
    "\n",
    "# Считаем доли устройств для каждой группы\n",
    "device_dist_a = group_a.groupby('device')['user_id'].nunique().sort_index()\n",
    "device_dist_b = group_b.groupby('device')['user_id'].nunique().sort_index()\n",
    "\n",
    "# Нормализуем, чтобы получить доли\n",
    "device_dist_a = device_dist_a / device_dist_a.sum()\n",
    "device_dist_b = device_dist_b / device_dist_b.sum()\n",
    "\n",
    "# Настройка графиков\n",
    "fig, axes = plt.subplots(1, 2, figsize=(14, 6), sharey=True)\n",
    "\n",
    "# Группа A\n",
    "axes[0].bar(device_dist_a.index, device_dist_a.values, color='skyblue')\n",
    "axes[0].set_title('Группа A: Доля типов устройств')\n",
    "axes[0].set_ylabel('Доля')\n",
    "axes[0].set_xlabel('Тип устройства')\n",
    "axes[0].grid(True, linestyle='--', alpha=0.5)\n",
    "\n",
    "# Группа B\n",
    "axes[1].bar(device_dist_b.index, device_dist_b.values, color='salmon')\n",
    "axes[1].set_title('Группа B: Доля типов устройств')\n",
    "axes[1].set_xlabel('Тип устройства')\n",
    "axes[1].grid(True, linestyle='--', alpha=0.5)\n",
    "\n",
    "# Общий заголовок\n",
    "plt.suptitle('Распределение типов устройств по тестовым группам', fontsize=16)\n",
    "plt.tight_layout(rect=[0, 0, 1, 0.94])\n",
    "plt.show()"
   ]
  },
  {
   "cell_type": "markdown",
   "metadata": {
    "id": "gAgmP6vo0eM1"
   },
   "source": [
    "#### 3.4. Равномерность распределения пользователей по регионам\n",
    "\n",
    "Построим две диаграммы:\n",
    "\n",
    "- доля каждого региона для пользователей из группы A,\n",
    "\n",
    "- доля каждого региона для пользователей из группы B.\n",
    "\n",
    "Добавим на диаграммы все необходимые подписи, пояснения и заголовки, которые позволят сделать вывод о том, совпадает ли распределение регионов в группах A и B. "
   ]
  },
  {
   "cell_type": "code",
   "execution_count": 24,
   "metadata": {
    "id": "3hAq-FG4OdYM"
   },
   "outputs": [
    {
     "data": {
      "image/png": "[encoded data removed]",
      "text/plain": [
       "<Figure size 1008x504 with 2 Axes>"
      ]
     },
     "metadata": {},
     "output_type": "display_data"
    }
   ],
   "source": [
    "# Распределение по регионам (прописала метод nunique())\n",
    "region_dist_a = group_a.groupby('region')['user_id'].nunique().sort_index()\n",
    "region_dist_b = group_b.groupby('region')['user_id'].nunique().sort_index()\n",
    "\n",
    "# Нормализуем, чтобы получить доли\n",
    "region_dist_a = region_dist_a / region_dist_b.sum()\n",
    "region_dist_b = region_dist_b / region_dist_b.sum()\n",
    "\n",
    "# Создадим словарь цветов для регионов\n",
    "region_colors = {\n",
    "    'CIS': 'skyblue',\n",
    "    'MENA': 'salmon',\n",
    "    'EU': 'lightgreen'\n",
    "}\n",
    "\n",
    "# Создаём два графика рядом\n",
    "fig, axes = plt.subplots(1, 2, figsize=(14, 7))\n",
    "\n",
    "# Группа A - круговая диаграмма\n",
    "axes[0].pie(\n",
    "    region_dist_a.values,\n",
    "    labels=region_dist_a.index,\n",
    "    autopct='%1.1f%%',\n",
    "    startangle=90,\n",
    "    colors=[region_colors[region] for region in region_dist_a.index],\n",
    "    textprops={'fontsize': 10}\n",
    ")\n",
    "axes[0].set_title('Группа A: Доля регионов')\n",
    "axes[0].axis('equal')  \n",
    "\n",
    "# Группа B - круговая диаграмма\n",
    "axes[1].pie(\n",
    "    region_dist_b.values,\n",
    "    labels=region_dist_b.index,\n",
    "    autopct='%1.1f%%',\n",
    "    startangle=90,\n",
    "    colors=[region_colors[region] for region in region_dist_b.index],\n",
    "    textprops={'fontsize': 10}\n",
    ")\n",
    "axes[1].set_title('Группа B: Доля регионов')\n",
    "axes[1].axis('equal')  \n",
    "\n",
    "# Общий заголовок\n",
    "fig.suptitle('Распределение регионов по тестовым группам', fontsize=16)\n",
    "\n",
    "# Показываем график\n",
    "plt.tight_layout()\n",
    "plt.show()"
   ]
  },
  {
   "cell_type": "markdown",
   "metadata": {
    "id": "X2WSZ-sDrSUi"
   },
   "source": [
    "#### 3.5. Вывод после проверки A/B-теста\n",
    "\n",
    "На основе проведённого анализа A/B-теста сформулируем выводы:\n",
    "\n",
    "- Было ли обнаружено различие в количестве пользователей в двух группах.\n",
    "\n",
    "- Являются ли выборки независимыми. Было ли обнаружено пересечение пользователей из тестовой и контрольной групп.\n",
    "\n",
    "- Сохраняется ли равномерное распределение пользователей тестовой и контрольной групп по категориальным переменным: устройствам и регионам."
   ]
  },
  {
   "cell_type": "markdown",
   "metadata": {},
   "source": [
    "#### Выводы по проведенному анализу A/В-теста\n",
    "\n",
    "**Равенство количества пользователей в группах соблюдено**:\n",
    "- Общее число уникальных пользователей за первый день: `1477 + 1466 = 2943`\n",
    "- Пользователи распределены равномерно между группами `A` и `В`.\n",
    "- Процентная разница между группами `0.74%` - мала, следовательно было произведено правильное разделение трафика.\n",
    "\n",
    "**Независимость выборок**:\n",
    "- Количество пользователей, попавших и в группу А, и в группу В - `0`.\n",
    "- Пересечений не обнаружено, выборки являются независимыми.\n",
    "\n",
    "**Распределение пользователей по категориям**:\n",
    "\n",
    "а) Типы устройств - распределение по типу устройств очень схожее в обеих группах, единственно `доля Android-пользователей` чуть выше в `группе В ~2%`.\n",
    "\n",
    "б) Регионы - распределение по регионам также близко, единственно `группа В` имеет немного больше пользователей из `CIS ~0.4%`, доля `MENA` одинакова и доля `EU` чуть ниже в группе В `~0.4%`.\n",
    "\n",
    "**А/В-тест проходит корректно**:\n",
    "- `Количество пользователей в группах близко, процентная разница мала`.\n",
    "- `Выборки независимы`.\n",
    "- `Распределение категориальных переменных сбалансировано`.\n",
    "- `Нет систематических различий между группами, которые могли бы исказить результаты теста`."
   ]
  },
  {
   "cell_type": "markdown",
   "metadata": {
    "id": "nudRr_BQ0eM2"
   },
   "source": [
    "### 4. Проверка результатов A/B-теста\n",
    "\n",
    "Необходимо убедиться в корректности теста и верно интерпретировать результаты."
   ]
  },
  {
   "cell_type": "markdown",
   "metadata": {
    "id": "JVve-YBB0eM2"
   },
   "source": [
    "#### 4.1. Получение результатов теста и подсчёт основной метрики\n",
    "\n",
    "- Считаем и сохраняем в датафрейм `sessions_test` CSV-файл с историческими данными о сессиях пользователей.\n",
    "\n",
    "- В датафрейме `sessions_test` создаем дополнительный столбец `good_session`. В него войдёт значение `1`, если за одну сессию было просмотрено 4 и более страниц, и значение `0`, если просмотрено меньше."
   ]
  },
  {
   "cell_type": "code",
   "execution_count": 25,
   "metadata": {
    "id": "EqRlwMtKPTir"
   },
   "outputs": [
    {
     "data": {
      "text/html": [
       "<div>\n",
       "<style scoped>\n",
       "    .dataframe tbody tr th:only-of-type {\n",
       "        vertical-align: middle;\n",
       "    }\n",
       "\n",
       "    .dataframe tbody tr th {\n",
       "        vertical-align: top;\n",
       "    }\n",
       "\n",
       "    .dataframe thead th {\n",
       "        text-align: right;\n",
       "    }\n",
       "</style>\n",
       "<table border=\"1\" class=\"dataframe\">\n",
       "  <thead>\n",
       "    <tr style=\"text-align: right;\">\n",
       "      <th></th>\n",
       "      <th>user_id</th>\n",
       "      <th>session_id</th>\n",
       "      <th>session_date</th>\n",
       "      <th>session_start_ts</th>\n",
       "      <th>install_date</th>\n",
       "      <th>session_number</th>\n",
       "      <th>registration_flag</th>\n",
       "      <th>page_counter</th>\n",
       "      <th>region</th>\n",
       "      <th>device</th>\n",
       "      <th>test_group</th>\n",
       "    </tr>\n",
       "  </thead>\n",
       "  <tbody>\n",
       "    <tr>\n",
       "      <th>0</th>\n",
       "      <td>6DAE3B3654DA738E</td>\n",
       "      <td>C69249E26E58F6E2</td>\n",
       "      <td>2025-10-26</td>\n",
       "      <td>2025-10-26 18:15:05</td>\n",
       "      <td>2025-10-16</td>\n",
       "      <td>3</td>\n",
       "      <td>0</td>\n",
       "      <td>3</td>\n",
       "      <td>MENA</td>\n",
       "      <td>Android</td>\n",
       "      <td>A</td>\n",
       "    </tr>\n",
       "    <tr>\n",
       "      <th>1</th>\n",
       "      <td>0A3FE5D1DD59110A</td>\n",
       "      <td>66D66D7C9F5181B7</td>\n",
       "      <td>2025-10-21</td>\n",
       "      <td>2025-10-21 17:04:53</td>\n",
       "      <td>2025-10-15</td>\n",
       "      <td>2</td>\n",
       "      <td>1</td>\n",
       "      <td>2</td>\n",
       "      <td>CIS</td>\n",
       "      <td>Android</td>\n",
       "      <td>B</td>\n",
       "    </tr>\n",
       "    <tr>\n",
       "      <th>2</th>\n",
       "      <td>2041F1D7AA740B88</td>\n",
       "      <td>50DE51D42215E74C</td>\n",
       "      <td>2025-10-23</td>\n",
       "      <td>2025-10-23 17:39:29</td>\n",
       "      <td>2025-10-19</td>\n",
       "      <td>3</td>\n",
       "      <td>0</td>\n",
       "      <td>2</td>\n",
       "      <td>MENA</td>\n",
       "      <td>Android</td>\n",
       "      <td>A</td>\n",
       "    </tr>\n",
       "    <tr>\n",
       "      <th>3</th>\n",
       "      <td>43D7585009168086</td>\n",
       "      <td>5763C0C353C22263</td>\n",
       "      <td>2025-10-24</td>\n",
       "      <td>2025-10-24 15:01:57</td>\n",
       "      <td>2025-10-18</td>\n",
       "      <td>4</td>\n",
       "      <td>0</td>\n",
       "      <td>1</td>\n",
       "      <td>CIS</td>\n",
       "      <td>iPhone</td>\n",
       "      <td>B</td>\n",
       "    </tr>\n",
       "    <tr>\n",
       "      <th>4</th>\n",
       "      <td>15AD68B14D62D88C</td>\n",
       "      <td>B1AD09F93C1053BC</td>\n",
       "      <td>2025-10-17</td>\n",
       "      <td>2025-10-17 17:34:39</td>\n",
       "      <td>2025-10-17</td>\n",
       "      <td>1</td>\n",
       "      <td>0</td>\n",
       "      <td>2</td>\n",
       "      <td>MENA</td>\n",
       "      <td>Android</td>\n",
       "      <td>B</td>\n",
       "    </tr>\n",
       "  </tbody>\n",
       "</table>\n",
       "</div>"
      ],
      "text/plain": [
       "            user_id        session_id session_date     session_start_ts  \\\n",
       "0  6DAE3B3654DA738E  C69249E26E58F6E2   2025-10-26  2025-10-26 18:15:05   \n",
       "1  0A3FE5D1DD59110A  66D66D7C9F5181B7   2025-10-21  2025-10-21 17:04:53   \n",
       "2  2041F1D7AA740B88  50DE51D42215E74C   2025-10-23  2025-10-23 17:39:29   \n",
       "3  43D7585009168086  5763C0C353C22263   2025-10-24  2025-10-24 15:01:57   \n",
       "4  15AD68B14D62D88C  B1AD09F93C1053BC   2025-10-17  2025-10-17 17:34:39   \n",
       "\n",
       "  install_date  session_number  registration_flag  page_counter region  \\\n",
       "0   2025-10-16               3                  0             3   MENA   \n",
       "1   2025-10-15               2                  1             2    CIS   \n",
       "2   2025-10-19               3                  0             2   MENA   \n",
       "3   2025-10-18               4                  0             1    CIS   \n",
       "4   2025-10-17               1                  0             2   MENA   \n",
       "\n",
       "    device test_group  \n",
       "0  Android          A  \n",
       "1  Android          B  \n",
       "2  Android          A  \n",
       "3   iPhone          B  \n",
       "4  Android          B  "
      ]
     },
     "execution_count": 25,
     "metadata": {},
     "output_type": "execute_result"
    }
   ],
   "source": [
    "# Считываем данные из csv\n",
    "sessions_test = pd.read_csv(.............................)\n",
    "\n",
    "# Выводим строки датафрейма на экран\n",
    "(sessions_test.head())"
   ]
  },
  {
   "cell_type": "code",
   "execution_count": 26,
   "metadata": {},
   "outputs": [
    {
     "name": "stdout",
     "output_type": "stream",
     "text": [
      "<class 'pandas.core.frame.DataFrame'>\n",
      "RangeIndex: 100005 entries, 0 to 100004\n",
      "Data columns (total 11 columns):\n",
      " #   Column             Non-Null Count   Dtype \n",
      "---  ------             --------------   ----- \n",
      " 0   user_id            100005 non-null  object\n",
      " 1   session_id         100005 non-null  object\n",
      " 2   session_date       100005 non-null  object\n",
      " 3   session_start_ts   100005 non-null  object\n",
      " 4   install_date       100005 non-null  object\n",
      " 5   session_number     100005 non-null  int64 \n",
      " 6   registration_flag  100005 non-null  int64 \n",
      " 7   page_counter       100005 non-null  int64 \n",
      " 8   region             100005 non-null  object\n",
      " 9   device             100005 non-null  object\n",
      " 10  test_group         100005 non-null  object\n",
      "dtypes: int64(3), object(8)\n",
      "memory usage: 8.4+ MB\n"
     ]
    }
   ],
   "source": [
    "# Выводим информацию о датафрейме\n",
    "sessions_test.info()"
   ]
  },
  {
   "cell_type": "code",
   "execution_count": 27,
   "metadata": {},
   "outputs": [],
   "source": [
    "# Переводим нужные столбцы в формат \"дата\"\n",
    "sessions_test['session_date'] = pd.to_datetime(sessions_test['session_date']).dt.normalize()\n",
    "sessions_test['install_date'] = pd.to_datetime(sessions_test['install_date']).dt.normalize()\n",
    "\n",
    "# Переводим нужный столбец в формат \"дата и время\"\n",
    "sessions_test['session_start_ts'] = pd.to_datetime(sessions_test['session_start_ts'])"
   ]
  },
  {
   "cell_type": "code",
   "execution_count": 28,
   "metadata": {},
   "outputs": [
    {
     "data": {
      "text/plain": [
       "user_id                      object\n",
       "session_id                   object\n",
       "session_date         datetime64[ns]\n",
       "session_start_ts     datetime64[ns]\n",
       "install_date         datetime64[ns]\n",
       "session_number                int64\n",
       "registration_flag             int64\n",
       "page_counter                  int64\n",
       "region                       object\n",
       "device                       object\n",
       "test_group                   object\n",
       "dtype: object"
      ]
     },
     "execution_count": 28,
     "metadata": {},
     "output_type": "execute_result"
    }
   ],
   "source": [
    "# Проверяем типы данных\n",
    "(sessions_test.dtypes)"
   ]
  },
  {
   "cell_type": "code",
   "execution_count": 29,
   "metadata": {},
   "outputs": [],
   "source": [
    "# Создаем новый столбец good_session\n",
    "sessions_test['good_session'] = (sessions_test['page_counter'] >= 4).astype(int)"
   ]
  },
  {
   "cell_type": "markdown",
   "metadata": {
    "id": "aeYhrMYy0eM2"
   },
   "source": [
    "#### 4.2. Проверка корректности результатов теста\n",
    "\n",
    "Необходимо убедиться, что тест проведён корректно, сравним две сопоставимые группы.\n",
    "\n",
    "- Рассчитаем количество уникальных сессий для каждого дня и обеих тестовых групп, используя группировку.\n",
    "\n",
    "- Проверим, что количество уникальных дневных сессий в двух выборках не различается или различия не статистически значимы. Используем статистический тест, который позволит сделать вывод о равенстве средних двух выборок.\n",
    "\n",
    "- В качестве ответа выведем на экран полученное значение p-value и интерпретируем его."
   ]
  },
  {
   "cell_type": "code",
   "execution_count": 30,
   "metadata": {
    "id": "5NUlcltkTTSU"
   },
   "outputs": [
    {
     "name": "stdout",
     "output_type": "stream",
     "text": [
      "Результат t-теста:\n",
      "-> t-статистика: -0.0780\n",
      "-> p-value = 0.9382 > 0.05 -> Не можем отвергнуть H₀\n",
      "-> Среднее число уникальных сессий в группа А равно среднему числу сессий в день в группе В -> группы не отличаются по активности.\n"
     ]
    }
   ],
   "source": [
    "# Группируем данные по дате и тестовой группе, считаем число уникальных сессий\n",
    "daily_sessions = (\n",
    "    sessions_test\n",
    "    .groupby(['session_date', 'test_group'])['session_id']\n",
    "    .nunique()\n",
    "    .unstack(fill_value=0)    \n",
    ")\n",
    "\n",
    "# Берем значения по группам\n",
    "group_a_daily = daily_sessions['A'].values\n",
    "group_b_daily = daily_sessions['B'].values\n",
    "\n",
    "# Выполняем t-test\n",
    "t_stat, p_value = ttest_ind(\n",
    "    group_a_daily,\n",
    "    group_b_daily\n",
    ")\n",
    "\n",
    "# Уровень значимости\n",
    "alpha = 0.05\n",
    "\n",
    "# Выводим гипотезы и результат\n",
    "print(f\"Результат t-теста:\")\n",
    "print(f\"-> t-статистика: {t_stat:.4f}\")\n",
    "\n",
    "if p_value > alpha:\n",
    "    print(f\"-> p-value = {p_value:.4f} > {alpha} -> Не можем отвергнуть H₀\")\n",
    "    print('-> Среднее число уникальных сессий в группа А равно среднему числу сессий в день в группе В -> группы не отличаются по активности.')\n",
    "else:\n",
    "    print(f\"-> p-value = {p_value:.4f} < {alpha} -> Отвергаем H₀\")\n",
    "    print('-> Среднее число уникальных сессий в группах А и В различается -> группы несбалансированы.')"
   ]
  },
  {
   "cell_type": "markdown",
   "metadata": {},
   "source": [
    "#### Промежуточные выводы\n",
    "\n",
    "Для проверки корректности А/В-теста была проведена статистическая проверка равенства средних числа уникальных сессий в день между группами А и В.\n",
    "\n",
    "Были сформулированы следующие гипотезы:\n",
    "- H₀: Среднее число уникальных сессий в день в группах A и B не отличается.\n",
    "- H₁: Среднее число уникальных сессий в день в группах A и B отличается.\n",
    "\n",
    "Результат t-теста `p_value = 0.9382 > 0.05`, это значит:\n",
    "+ **Нет статистически значимой разницы** в числе сессий между группами `А` и `В`.\n",
    "+ Трафик **распределен равномерно**.\n",
    "+ A/B-тест **спланирован корректно**."
   ]
  },
  {
   "cell_type": "markdown",
   "metadata": {
    "id": "7kwRxzg70eM3"
   },
   "source": [
    "#### 4.3. Сравнение доли успешных сессий\n",
    "\n",
    "Используем созданный на первом шаге столбец `good_session` и рассчитаем долю успешных сессий для выборок A и B, а также разницу в этом показателе. Полученный вывод отобразим на экране."
   ]
  },
  {
   "cell_type": "code",
   "execution_count": 31,
   "metadata": {
    "id": "Uku-V1CpPRCz"
   },
   "outputs": [
    {
     "name": "stdout",
     "output_type": "stream",
     "text": [
      "Доля успешных сессий в группе А: 0.3077\n",
      "Доля успешных сессий в группе В: 0.3183\n",
      "Разница (B - A): 0.0106\n"
     ]
    }
   ],
   "source": [
    "# Рассчитаем доли успешных сессий\n",
    "good_sessions_a = sessions_test[sessions_test['test_group'] == 'A']['good_session'].mean()\n",
    "good_sessions_b = sessions_test[sessions_test['test_group'] == 'B']['good_session'].mean()\n",
    "\n",
    "# Разница между группами\n",
    "diff = good_sessions_b - good_sessions_a\n",
    "\n",
    "# Выводим результат\n",
    "print(f\"Доля успешных сессий в группе А: {good_sessions_a:.4f}\")\n",
    "print(f\"Доля успешных сессий в группе В: {good_sessions_b:.4f}\")\n",
    "print(f\"Разница (B - A): {diff:.4f}\")"
   ]
  },
  {
   "cell_type": "markdown",
   "metadata": {
    "id": "9fMFuja10eM4"
   },
   "source": [
    "#### 4.4. Насколько статистически значимо изменение ключевой метрики\n",
    "\n",
    "Количество успешных сессий в тестовой выборке примерно на 1.1% выше, чем в контрольной, однако делать выводы только на основе этого значения будет некорректно. Для принятия решения всегда необходимо отвечать на вопрос: является ли это изменение статистически значимым.\n",
    "\n",
    "- Используя статистический тест, рассчитаем, является ли изменение в метрике доли успешных сессий статистически значимым.\n",
    "\n",
    "- Выведем на экран полученное значение p-value и свои выводы о статистической значимости. Уровень значимости был выбран на уровне 0.05."
   ]
  },
  {
   "cell_type": "code",
   "execution_count": 32,
   "metadata": {
    "id": "gFvhRGwlPLS0"
   },
   "outputs": [
    {
     "name": "stdout",
     "output_type": "stream",
     "text": [
      "Результат z-теста:\n",
      "-> z-статистика: -3.6027\n",
      "-> p-value = 0.0003 < 0.05 -> Отвергаем H₀, достаточно доказательств, чтобы утверждать, что группы отличаются.\n",
      "-> Доли успешных сессий в группах А и В различаются, новый алгоритм влияет на вовлечённость.\n"
     ]
    }
   ],
   "source": [
    "# Фильтруем данные по группам\n",
    "group_a = sessions_test[sessions_test['test_group'] == 'A']\n",
    "group_b = sessions_test[sessions_test['test_group'] == 'B']\n",
    "\n",
    "# Считаем число успешных сессий и общее число сессий \n",
    "m_a = group_a['good_session'].sum()\n",
    "n_a = len(group_a)\n",
    "\n",
    "m_b = group_b['good_session'].sum()\n",
    "n_b = len(group_b)\n",
    "\n",
    "# Выполняем z-test для долей, т.к наша метрика - бинарная\n",
    "count = [m_a, m_b]\n",
    "nobs = [n_a, n_b]\n",
    "\n",
    "z_stat, p_value = proportions_ztest(count,nobs)\n",
    "\n",
    "# Уровень значимости\n",
    "alpha = 0.05\n",
    "\n",
    "# Выводим гипотезы и результат\n",
    "print(f\"Результат z-теста:\")\n",
    "print(f\"-> z-статистика: {z_stat:.4f}\")\n",
    "\n",
    "if p_value > alpha:\n",
    "    print(f\"-> p-value = {p_value:.4f} > {alpha} -> -> Не можем отвергнуть H₀, недостаточно доказательств, чтобы утверждать, что группы отличаются.\")\n",
    "    print(\"-> Доли успешных сессий в группах А и В равны, новый алгоритм не влияет на вовлечённость.\")\n",
    "else:\n",
    "    print(f\"-> p-value = {p_value:.4f} < {alpha} -> Отвергаем H₀, достаточно доказательств, чтобы утверждать, что группы отличаются.\")\n",
    "    print(\"-> Доли успешных сессий в группах А и В различаются, новый алгоритм влияет на вовлечённость.\")"
   ]
  },
  {
   "cell_type": "markdown",
   "metadata": {
    "id": "GnJrkY9Q63zS"
   },
   "source": [
    "#### 4.5. Вывод по результатам A/B-эксперимента\n",
    "\n",
    "На основе проведённого анализа результатов теста сформулируем следующие выводы для команды разработки приложения:\n",
    "\n",
    "- Характеристики проведённого эксперимента, количество задействованных пользователей и длительность эксперимента.\n",
    "\n",
    "- Повлияло ли внедрение нового алгоритма рекомендаций на рост ключевой метрики и как.\n",
    "\n",
    "- Каким получилось значение p-value для оценки статистической значимости выявленного эффекта.\n",
    "\n",
    "- Стоит ли внедрять новоовведение в приложение."
   ]
  },
  {
   "cell_type": "markdown",
   "metadata": {},
   "source": [
    "#### Вывод для команды разработки приложения\n",
    "\n",
    "- Цель теста: оценить **эффективность нового алгоритма рекомендаций**.\n",
    "- Целевая метрика: доля сессий, в которых пользователь просмотрел **4 и более страниц - показатель вовлеченности контента**.\n",
    "- Гипотеза: новый алгоритм повысит вовлеченность пользователь -> **увеличит долю \"успешных сессий\"**.\n",
    "\n",
    "Параметры теста\n",
    "- Уровень значимости alpha = `0.05`.\n",
    "- Мощность теста power = `0.8`.\n",
    "- Минимальный детектируемый эффект MDE = `+3%  к базовой конверсии`.\n",
    "- Необходимый размер выборки на группу = `17 441 уникальных пользователя`.\n",
    "- Среднее количество пользователей в день = `~9907`.\n",
    "- Длительность теста = `~4 дня`.\n",
    "\n",
    "Результаты проверки корректности А/В-теста\n",
    "\n",
    "✅ Равномерное распределение пользователей по группам.\n",
    "- Группа А = `1477 пользователей`.\n",
    "- Группа В = `1466 пользователей`.\n",
    "- Процентная разница между группами = `0.74% - мала, трафик распределен правильно`.\n",
    "\n",
    "✅ Независимость выборок\n",
    "- Количество пользователей, попавших и в группу А, и в группу В = `0`.\n",
    "- Выборки независимы -> `тест проведен корректно`.\n",
    "\n",
    "✅ Баланс по категориям\n",
    "- Распределение по типам устройств схожее, группа В имеет на `~2% больше Android-пользователей`.\n",
    "- Распределение по регионам близкое, группа В имеет на `~0.4% больше пользователей из CIS и на ~0.4% меньше пользователей из EU`.\n",
    "\n",
    "`Различия несущественны и не должны влиять на результаты теста`.\n",
    "\n",
    "✅ Активность пользователей по дням\n",
    "- Была рассчитана ежедневная активность пользователей.\n",
    "- Проведен `t-test` на равенство средних числа сессий в день.\n",
    "- `p-value = 0.9382 > 0.05`, из этого следует, что нет статистически значимых различий между группами по количеству сессий в день.\n",
    "\n",
    "✅ Результаты по целевой метрики\n",
    "- А (контрольная) = `0.3077 (30.77%)`.\n",
    "- В (тестовая) = `0.3183 (31.83%)`.\n",
    "- Разница = `+1.06 п.п.(+3.45%)`.\n",
    "\n",
    "\n",
    "✅ Результаты z-test\n",
    "- Проведен `z-test` для пропорций, значение `p_value = 0.0003 < 0.05`, то есть **отвергаем нулевую гипотезу о равенстве долей**.\n",
    "\n",
    "`Увеличение доли успешных сессий в группе В является статистически значимым и не случайным`.\n",
    "\n",
    "✅ Рекомендация команде разработки\n",
    "- **Новый алгоритм рекомендаций стоит внедрить в продукт, так как он статистически значимо увеличивает вовлеченность пользователей и улучшает целевую метрику**."
   ]
  }
 ],
 "metadata": {
  "ExecuteTimeLog": [
   {
    "duration": 1348,
    "start_time": "2025-06-15T09:24:57.124Z"
   },
   {
    "duration": 3,
    "start_time": "2025-06-15T09:25:00.228Z"
   },
   {
    "duration": 139,
    "start_time": "2025-06-15T09:28:51.422Z"
   },
   {
    "duration": 1264,
    "start_time": "2025-06-15T09:29:29.126Z"
   },
   {
    "duration": 1207,
    "start_time": "2025-06-15T09:29:30.393Z"
   },
   {
    "duration": 139,
    "start_time": "2025-06-15T09:29:31.617Z"
   },
   {
    "duration": 0,
    "start_time": "2025-06-15T09:29:31.757Z"
   },
   {
    "duration": 151,
    "start_time": "2025-06-15T09:31:08.954Z"
   },
   {
    "duration": 10,
    "start_time": "2025-06-15T09:40:39.421Z"
   },
   {
    "duration": 1177,
    "start_time": "2025-06-15T09:40:49.441Z"
   },
   {
    "duration": 1141,
    "start_time": "2025-06-15T09:40:50.619Z"
   },
   {
    "duration": 0,
    "start_time": "2025-06-15T09:40:51.762Z"
   },
   {
    "duration": 0,
    "start_time": "2025-06-15T09:40:51.763Z"
   },
   {
    "duration": 0,
    "start_time": "2025-06-15T09:40:51.764Z"
   },
   {
    "duration": 0,
    "start_time": "2025-06-15T09:40:51.765Z"
   },
   {
    "duration": 1196,
    "start_time": "2025-06-15T09:41:12.029Z"
   },
   {
    "duration": 1079,
    "start_time": "2025-06-15T09:41:13.227Z"
   },
   {
    "duration": 158,
    "start_time": "2025-06-15T09:41:14.308Z"
   },
   {
    "duration": 591,
    "start_time": "2025-06-15T09:41:14.468Z"
   },
   {
    "duration": 116,
    "start_time": "2025-06-15T09:41:15.066Z"
   },
   {
    "duration": 0,
    "start_time": "2025-06-15T09:41:15.184Z"
   },
   {
    "duration": 1174,
    "start_time": "2025-06-15T09:45:09.945Z"
   },
   {
    "duration": 1073,
    "start_time": "2025-06-15T09:45:11.122Z"
   },
   {
    "duration": 156,
    "start_time": "2025-06-15T09:45:12.197Z"
   },
   {
    "duration": 592,
    "start_time": "2025-06-15T09:45:12.354Z"
   },
   {
    "duration": 110,
    "start_time": "2025-06-15T09:45:12.948Z"
   },
   {
    "duration": 0,
    "start_time": "2025-06-15T09:45:13.059Z"
   },
   {
    "duration": 0,
    "start_time": "2025-06-15T09:45:13.060Z"
   },
   {
    "duration": 1166,
    "start_time": "2025-06-15T09:45:39.369Z"
   },
   {
    "duration": 1071,
    "start_time": "2025-06-15T09:45:40.537Z"
   },
   {
    "duration": 159,
    "start_time": "2025-06-15T09:45:41.610Z"
   },
   {
    "duration": 585,
    "start_time": "2025-06-15T09:45:41.771Z"
   },
   {
    "duration": 47,
    "start_time": "2025-06-15T09:45:42.358Z"
   },
   {
    "duration": 122,
    "start_time": "2025-06-15T09:45:42.407Z"
   },
   {
    "duration": 0,
    "start_time": "2025-06-15T09:45:42.531Z"
   },
   {
    "duration": 1245,
    "start_time": "2025-06-15T10:16:44.387Z"
   },
   {
    "duration": 1086,
    "start_time": "2025-06-15T10:16:45.634Z"
   },
   {
    "duration": 151,
    "start_time": "2025-06-15T10:16:46.722Z"
   },
   {
    "duration": 530,
    "start_time": "2025-06-15T10:16:46.875Z"
   },
   {
    "duration": 5,
    "start_time": "2025-06-15T10:16:47.407Z"
   },
   {
    "duration": 573,
    "start_time": "2025-06-15T10:16:47.413Z"
   },
   {
    "duration": 40,
    "start_time": "2025-06-15T10:16:47.987Z"
   },
   {
    "duration": 126,
    "start_time": "2025-06-15T10:16:48.028Z"
   },
   {
    "duration": 0,
    "start_time": "2025-06-15T10:16:48.155Z"
   },
   {
    "duration": 1166,
    "start_time": "2025-06-15T10:18:02.071Z"
   },
   {
    "duration": 1068,
    "start_time": "2025-06-15T10:18:03.239Z"
   },
   {
    "duration": 155,
    "start_time": "2025-06-15T10:18:04.308Z"
   },
   {
    "duration": 544,
    "start_time": "2025-06-15T10:18:04.465Z"
   },
   {
    "duration": 4,
    "start_time": "2025-06-15T10:18:05.011Z"
   },
   {
    "duration": 609,
    "start_time": "2025-06-15T10:18:05.017Z"
   },
   {
    "duration": 35,
    "start_time": "2025-06-15T10:18:05.628Z"
   },
   {
    "duration": 242,
    "start_time": "2025-06-15T10:18:05.664Z"
   },
   {
    "duration": 0,
    "start_time": "2025-06-15T10:18:05.907Z"
   },
   {
    "duration": 201,
    "start_time": "2025-06-15T10:20:28.955Z"
   },
   {
    "duration": 50,
    "start_time": "2025-06-15T10:20:33.853Z"
   },
   {
    "duration": 4,
    "start_time": "2025-06-15T10:20:34.600Z"
   },
   {
    "duration": 19,
    "start_time": "2025-06-15T10:22:30.963Z"
   },
   {
    "duration": 715,
    "start_time": "2025-06-15T10:30:39.848Z"
   },
   {
    "duration": 708,
    "start_time": "2025-06-15T10:33:25.061Z"
   },
   {
    "duration": 1170,
    "start_time": "2025-06-15T10:33:38.263Z"
   },
   {
    "duration": 1078,
    "start_time": "2025-06-15T10:33:39.435Z"
   },
   {
    "duration": 157,
    "start_time": "2025-06-15T10:33:40.515Z"
   },
   {
    "duration": 385,
    "start_time": "2025-06-15T10:33:40.674Z"
   },
   {
    "duration": 5,
    "start_time": "2025-06-15T10:33:41.061Z"
   },
   {
    "duration": 637,
    "start_time": "2025-06-15T10:33:41.068Z"
   },
   {
    "duration": 40,
    "start_time": "2025-06-15T10:33:41.707Z"
   },
   {
    "duration": 876,
    "start_time": "2025-06-15T10:33:41.749Z"
   },
   {
    "duration": 0,
    "start_time": "2025-06-15T10:33:42.627Z"
   },
   {
    "duration": 0,
    "start_time": "2025-06-15T10:33:42.628Z"
   },
   {
    "duration": 1129,
    "start_time": "2025-06-15T10:44:45.317Z"
   },
   {
    "duration": 1037,
    "start_time": "2025-06-15T10:44:46.448Z"
   },
   {
    "duration": 157,
    "start_time": "2025-06-15T10:44:47.487Z"
   },
   {
    "duration": 376,
    "start_time": "2025-06-15T10:44:47.647Z"
   },
   {
    "duration": 5,
    "start_time": "2025-06-15T10:44:48.025Z"
   },
   {
    "duration": 542,
    "start_time": "2025-06-15T10:44:48.032Z"
   },
   {
    "duration": 45,
    "start_time": "2025-06-15T10:44:48.576Z"
   },
   {
    "duration": 1032,
    "start_time": "2025-06-15T10:44:48.623Z"
   },
   {
    "duration": 0,
    "start_time": "2025-06-15T10:44:49.658Z"
   },
   {
    "duration": 0,
    "start_time": "2025-06-15T10:44:49.659Z"
   },
   {
    "duration": 1039,
    "start_time": "2025-06-15T11:52:32.433Z"
   },
   {
    "duration": 1028,
    "start_time": "2025-06-15T11:52:44.905Z"
   },
   {
    "duration": 107,
    "start_time": "2025-06-15T11:58:10.251Z"
   },
   {
    "duration": 345,
    "start_time": "2025-06-15T11:58:43.964Z"
   },
   {
    "duration": 1152,
    "start_time": "2025-06-15T11:58:57.957Z"
   },
   {
    "duration": 1070,
    "start_time": "2025-06-15T11:58:59.110Z"
   },
   {
    "duration": 156,
    "start_time": "2025-06-15T11:59:00.182Z"
   },
   {
    "duration": 380,
    "start_time": "2025-06-15T11:59:00.339Z"
   },
   {
    "duration": 5,
    "start_time": "2025-06-15T11:59:00.721Z"
   },
   {
    "duration": 584,
    "start_time": "2025-06-15T11:59:00.728Z"
   },
   {
    "duration": 39,
    "start_time": "2025-06-15T11:59:01.314Z"
   },
   {
    "duration": 1228,
    "start_time": "2025-06-15T11:59:01.355Z"
   },
   {
    "duration": 329,
    "start_time": "2025-06-15T11:59:02.584Z"
   },
   {
    "duration": 122,
    "start_time": "2025-06-15T11:59:02.914Z"
   },
   {
    "duration": 0,
    "start_time": "2025-06-15T11:59:03.038Z"
   },
   {
    "duration": 9,
    "start_time": "2025-06-15T12:21:19.162Z"
   },
   {
    "duration": 185,
    "start_time": "2025-06-15T12:24:51.485Z"
   },
   {
    "duration": 342,
    "start_time": "2025-06-15T12:25:04.391Z"
   },
   {
    "duration": 335,
    "start_time": "2025-06-15T12:26:05.226Z"
   },
   {
    "duration": 22,
    "start_time": "2025-06-15T12:40:57.804Z"
   },
   {
    "duration": 29,
    "start_time": "2025-06-15T12:41:14.317Z"
   },
   {
    "duration": 419,
    "start_time": "2025-06-15T12:41:45.839Z"
   },
   {
    "duration": 16,
    "start_time": "2025-06-15T12:57:05.267Z"
   },
   {
    "duration": 15,
    "start_time": "2025-06-15T13:22:50.491Z"
   },
   {
    "duration": 135,
    "start_time": "2025-06-15T13:23:03.784Z"
   },
   {
    "duration": 138,
    "start_time": "2025-06-15T13:23:36.149Z"
   },
   {
    "duration": 1388,
    "start_time": "2025-06-16T04:56:04.990Z"
   },
   {
    "duration": 1040,
    "start_time": "2025-06-16T04:56:06.380Z"
   },
   {
    "duration": 151,
    "start_time": "2025-06-16T04:56:07.422Z"
   },
   {
    "duration": 377,
    "start_time": "2025-06-16T04:56:07.576Z"
   },
   {
    "duration": 5,
    "start_time": "2025-06-16T04:56:07.955Z"
   },
   {
    "duration": 559,
    "start_time": "2025-06-16T04:56:07.961Z"
   },
   {
    "duration": 42,
    "start_time": "2025-06-16T04:56:08.522Z"
   },
   {
    "duration": 1208,
    "start_time": "2025-06-16T04:56:08.565Z"
   },
   {
    "duration": 333,
    "start_time": "2025-06-16T04:56:09.774Z"
   },
   {
    "duration": 7,
    "start_time": "2025-06-16T04:56:10.109Z"
   },
   {
    "duration": 305,
    "start_time": "2025-06-16T04:56:10.118Z"
   },
   {
    "duration": 134,
    "start_time": "2025-06-16T04:56:10.424Z"
   },
   {
    "duration": 0,
    "start_time": "2025-06-16T04:56:10.560Z"
   },
   {
    "duration": 0,
    "start_time": "2025-06-16T04:56:10.561Z"
   },
   {
    "duration": 34,
    "start_time": "2025-06-16T05:04:20.196Z"
   },
   {
    "duration": 424,
    "start_time": "2025-06-16T05:06:06.334Z"
   },
   {
    "duration": 28,
    "start_time": "2025-06-16T05:06:53.934Z"
   },
   {
    "duration": 118,
    "start_time": "2025-06-16T05:06:56.578Z"
   },
   {
    "duration": 12,
    "start_time": "2025-06-16T05:07:17.926Z"
   },
   {
    "duration": 10,
    "start_time": "2025-06-16T05:08:50.818Z"
   },
   {
    "duration": 15,
    "start_time": "2025-06-16T05:08:57.237Z"
   },
   {
    "duration": 1146,
    "start_time": "2025-06-16T05:09:10.657Z"
   },
   {
    "duration": 1031,
    "start_time": "2025-06-16T05:09:11.804Z"
   },
   {
    "duration": 153,
    "start_time": "2025-06-16T05:09:12.837Z"
   },
   {
    "duration": 368,
    "start_time": "2025-06-16T05:09:12.991Z"
   },
   {
    "duration": 5,
    "start_time": "2025-06-16T05:09:13.361Z"
   },
   {
    "duration": 551,
    "start_time": "2025-06-16T05:09:13.368Z"
   },
   {
    "duration": 44,
    "start_time": "2025-06-16T05:09:13.920Z"
   },
   {
    "duration": 1098,
    "start_time": "2025-06-16T05:09:13.966Z"
   },
   {
    "duration": 347,
    "start_time": "2025-06-16T05:09:15.065Z"
   },
   {
    "duration": 7,
    "start_time": "2025-06-16T05:09:15.414Z"
   },
   {
    "duration": 331,
    "start_time": "2025-06-16T05:09:15.423Z"
   },
   {
    "duration": 414,
    "start_time": "2025-06-16T05:09:15.756Z"
   },
   {
    "duration": 21,
    "start_time": "2025-06-16T05:09:16.171Z"
   },
   {
    "duration": 132,
    "start_time": "2025-06-16T05:09:16.194Z"
   },
   {
    "duration": 34,
    "start_time": "2025-06-16T05:09:16.327Z"
   },
   {
    "duration": 11,
    "start_time": "2025-06-16T05:09:16.363Z"
   },
   {
    "duration": 9,
    "start_time": "2025-06-16T05:09:16.376Z"
   },
   {
    "duration": 4,
    "start_time": "2025-06-16T05:09:46.252Z"
   },
   {
    "duration": 1193,
    "start_time": "2025-06-16T05:12:35.909Z"
   },
   {
    "duration": 1000,
    "start_time": "2025-06-16T05:12:37.106Z"
   },
   {
    "duration": 154,
    "start_time": "2025-06-16T05:12:38.108Z"
   },
   {
    "duration": 360,
    "start_time": "2025-06-16T05:12:38.264Z"
   },
   {
    "duration": 4,
    "start_time": "2025-06-16T05:12:38.627Z"
   },
   {
    "duration": 546,
    "start_time": "2025-06-16T05:12:38.632Z"
   },
   {
    "duration": 44,
    "start_time": "2025-06-16T05:12:39.180Z"
   },
   {
    "duration": 1101,
    "start_time": "2025-06-16T05:12:39.225Z"
   },
   {
    "duration": 321,
    "start_time": "2025-06-16T05:12:40.328Z"
   },
   {
    "duration": 8,
    "start_time": "2025-06-16T05:12:40.651Z"
   },
   {
    "duration": 324,
    "start_time": "2025-06-16T05:12:40.660Z"
   },
   {
    "duration": 377,
    "start_time": "2025-06-16T05:12:40.985Z"
   },
   {
    "duration": 19,
    "start_time": "2025-06-16T05:12:41.363Z"
   },
   {
    "duration": 130,
    "start_time": "2025-06-16T05:12:41.385Z"
   },
   {
    "duration": 34,
    "start_time": "2025-06-16T05:12:41.516Z"
   },
   {
    "duration": 11,
    "start_time": "2025-06-16T05:12:41.552Z"
   },
   {
    "duration": 139,
    "start_time": "2025-06-16T05:12:41.564Z"
   },
   {
    "duration": 9,
    "start_time": "2025-06-16T05:12:41.705Z"
   },
   {
    "duration": 94,
    "start_time": "2025-06-16T05:12:41.716Z"
   },
   {
    "duration": 8,
    "start_time": "2025-06-16T05:15:22.367Z"
   },
   {
    "duration": 3,
    "start_time": "2025-06-16T05:18:12.601Z"
   },
   {
    "duration": 240,
    "start_time": "2025-06-16T05:20:35.890Z"
   },
   {
    "duration": 106,
    "start_time": "2025-06-16T06:07:46.253Z"
   },
   {
    "duration": 9,
    "start_time": "2025-06-16T06:07:55.644Z"
   },
   {
    "duration": 375,
    "start_time": "2025-06-16T06:14:38.726Z"
   },
   {
    "duration": 310,
    "start_time": "2025-06-16T06:53:33.719Z"
   },
   {
    "duration": 180,
    "start_time": "2025-06-16T06:59:20.233Z"
   },
   {
    "duration": 572,
    "start_time": "2025-06-16T06:59:30.461Z"
   },
   {
    "duration": 350,
    "start_time": "2025-06-16T07:01:45.331Z"
   },
   {
    "duration": 55,
    "start_time": "2025-06-16T09:51:06.493Z"
   },
   {
    "duration": 1417,
    "start_time": "2025-06-16T09:51:52.400Z"
   },
   {
    "duration": 1219,
    "start_time": "2025-06-16T09:51:53.820Z"
   },
   {
    "duration": 168,
    "start_time": "2025-06-16T09:51:55.041Z"
   },
   {
    "duration": 391,
    "start_time": "2025-06-16T09:51:55.210Z"
   },
   {
    "duration": 4,
    "start_time": "2025-06-16T09:51:55.604Z"
   },
   {
    "duration": 722,
    "start_time": "2025-06-16T09:51:55.610Z"
   },
   {
    "duration": 47,
    "start_time": "2025-06-16T09:51:56.334Z"
   },
   {
    "duration": 1358,
    "start_time": "2025-06-16T09:51:56.383Z"
   },
   {
    "duration": 348,
    "start_time": "2025-06-16T09:51:57.743Z"
   },
   {
    "duration": 10,
    "start_time": "2025-06-16T09:51:58.093Z"
   },
   {
    "duration": 355,
    "start_time": "2025-06-16T09:51:58.106Z"
   },
   {
    "duration": 422,
    "start_time": "2025-06-16T09:51:58.463Z"
   },
   {
    "duration": 22,
    "start_time": "2025-06-16T09:51:58.888Z"
   },
   {
    "duration": 182,
    "start_time": "2025-06-16T09:51:58.914Z"
   },
   {
    "duration": 37,
    "start_time": "2025-06-16T09:51:59.099Z"
   },
   {
    "duration": 76,
    "start_time": "2025-06-16T09:51:59.138Z"
   },
   {
    "duration": 12,
    "start_time": "2025-06-16T09:51:59.216Z"
   },
   {
    "duration": 5,
    "start_time": "2025-06-16T09:51:59.231Z"
   },
   {
    "duration": 9,
    "start_time": "2025-06-16T09:51:59.238Z"
   },
   {
    "duration": 7,
    "start_time": "2025-06-16T09:51:59.249Z"
   },
   {
    "duration": 248,
    "start_time": "2025-06-16T09:51:59.259Z"
   },
   {
    "duration": 11,
    "start_time": "2025-06-16T09:51:59.509Z"
   },
   {
    "duration": 409,
    "start_time": "2025-06-16T09:51:59.522Z"
   },
   {
    "duration": 338,
    "start_time": "2025-06-16T09:51:59.933Z"
   },
   {
    "duration": 287,
    "start_time": "2025-06-16T09:52:00.273Z"
   },
   {
    "duration": 49,
    "start_time": "2025-06-16T09:53:06.717Z"
   },
   {
    "duration": 78,
    "start_time": "2025-06-16T09:54:42.110Z"
   },
   {
    "duration": 4,
    "start_time": "2025-06-16T09:55:14.085Z"
   },
   {
    "duration": 127,
    "start_time": "2025-06-16T09:59:57.232Z"
   },
   {
    "duration": 1250,
    "start_time": "2025-06-16T10:00:20.471Z"
   },
   {
    "duration": 1220,
    "start_time": "2025-06-16T10:00:21.723Z"
   },
   {
    "duration": 173,
    "start_time": "2025-06-16T10:00:22.944Z"
   },
   {
    "duration": 396,
    "start_time": "2025-06-16T10:00:23.119Z"
   },
   {
    "duration": 5,
    "start_time": "2025-06-16T10:00:23.517Z"
   },
   {
    "duration": 640,
    "start_time": "2025-06-16T10:00:23.524Z"
   },
   {
    "duration": 59,
    "start_time": "2025-06-16T10:00:24.167Z"
   },
   {
    "duration": 1381,
    "start_time": "2025-06-16T10:00:24.228Z"
   },
   {
    "duration": 396,
    "start_time": "2025-06-16T10:00:25.611Z"
   },
   {
    "duration": 9,
    "start_time": "2025-06-16T10:00:26.009Z"
   },
   {
    "duration": 350,
    "start_time": "2025-06-16T10:00:26.020Z"
   },
   {
    "duration": 445,
    "start_time": "2025-06-16T10:00:26.372Z"
   },
   {
    "duration": 21,
    "start_time": "2025-06-16T10:00:26.819Z"
   },
   {
    "duration": 168,
    "start_time": "2025-06-16T10:00:26.843Z"
   },
   {
    "duration": 38,
    "start_time": "2025-06-16T10:00:27.013Z"
   },
   {
    "duration": 44,
    "start_time": "2025-06-16T10:00:27.052Z"
   },
   {
    "duration": 121,
    "start_time": "2025-06-16T10:00:27.098Z"
   },
   {
    "duration": 5,
    "start_time": "2025-06-16T10:00:27.221Z"
   },
   {
    "duration": 11,
    "start_time": "2025-06-16T10:00:27.228Z"
   },
   {
    "duration": 10,
    "start_time": "2025-06-16T10:00:27.241Z"
   },
   {
    "duration": 255,
    "start_time": "2025-06-16T10:00:27.253Z"
   },
   {
    "duration": 11,
    "start_time": "2025-06-16T10:00:27.510Z"
   },
   {
    "duration": 423,
    "start_time": "2025-06-16T10:00:27.523Z"
   },
   {
    "duration": 334,
    "start_time": "2025-06-16T10:00:27.948Z"
   },
   {
    "duration": 288,
    "start_time": "2025-06-16T10:00:28.284Z"
   },
   {
    "duration": 51,
    "start_time": "2025-06-16T10:00:28.574Z"
   },
   {
    "duration": 96,
    "start_time": "2025-06-16T10:00:28.627Z"
   },
   {
    "duration": 5,
    "start_time": "2025-06-16T10:00:28.725Z"
   },
   {
    "duration": 129,
    "start_time": "2025-06-16T10:00:28.731Z"
   },
   {
    "duration": 13,
    "start_time": "2025-06-16T10:00:31.970Z"
   },
   {
    "duration": 5,
    "start_time": "2025-06-16T10:00:45.597Z"
   },
   {
    "duration": 83,
    "start_time": "2025-06-16T10:07:47.753Z"
   },
   {
    "duration": 58,
    "start_time": "2025-06-16T10:07:56.043Z"
   },
   {
    "duration": 1261,
    "start_time": "2025-06-16T10:10:26.257Z"
   },
   {
    "duration": 1208,
    "start_time": "2025-06-16T10:10:27.520Z"
   },
   {
    "duration": 164,
    "start_time": "2025-06-16T10:10:28.730Z"
   },
   {
    "duration": 421,
    "start_time": "2025-06-16T10:10:28.896Z"
   },
   {
    "duration": 4,
    "start_time": "2025-06-16T10:10:29.320Z"
   },
   {
    "duration": 656,
    "start_time": "2025-06-16T10:10:29.326Z"
   },
   {
    "duration": 44,
    "start_time": "2025-06-16T10:10:29.984Z"
   },
   {
    "duration": 1346,
    "start_time": "2025-06-16T10:10:30.030Z"
   },
   {
    "duration": 353,
    "start_time": "2025-06-16T10:10:31.378Z"
   },
   {
    "duration": 8,
    "start_time": "2025-06-16T10:10:31.732Z"
   },
   {
    "duration": 325,
    "start_time": "2025-06-16T10:10:31.742Z"
   },
   {
    "duration": 444,
    "start_time": "2025-06-16T10:10:32.069Z"
   },
   {
    "duration": 20,
    "start_time": "2025-06-16T10:10:32.515Z"
   },
   {
    "duration": 178,
    "start_time": "2025-06-16T10:10:32.538Z"
   },
   {
    "duration": 36,
    "start_time": "2025-06-16T10:10:32.718Z"
   },
   {
    "duration": 13,
    "start_time": "2025-06-16T10:10:32.760Z"
   },
   {
    "duration": 16,
    "start_time": "2025-06-16T10:10:32.775Z"
   },
   {
    "duration": 14,
    "start_time": "2025-06-16T10:10:32.793Z"
   },
   {
    "duration": 27,
    "start_time": "2025-06-16T10:10:32.808Z"
   },
   {
    "duration": 19,
    "start_time": "2025-06-16T10:10:32.837Z"
   },
   {
    "duration": 253,
    "start_time": "2025-06-16T10:10:32.857Z"
   },
   {
    "duration": 8,
    "start_time": "2025-06-16T10:10:33.112Z"
   },
   {
    "duration": 409,
    "start_time": "2025-06-16T10:10:33.122Z"
   },
   {
    "duration": 345,
    "start_time": "2025-06-16T10:10:33.533Z"
   },
   {
    "duration": 292,
    "start_time": "2025-06-16T10:10:33.880Z"
   },
   {
    "duration": 49,
    "start_time": "2025-06-16T10:10:34.174Z"
   },
   {
    "duration": 93,
    "start_time": "2025-06-16T10:10:34.224Z"
   },
   {
    "duration": 27,
    "start_time": "2025-06-16T10:10:34.318Z"
   },
   {
    "duration": 24,
    "start_time": "2025-06-16T10:10:34.347Z"
   },
   {
    "duration": 67,
    "start_time": "2025-06-16T10:10:34.373Z"
   },
   {
    "duration": 35,
    "start_time": "2025-06-16T10:31:59.082Z"
   },
   {
    "duration": 135,
    "start_time": "2025-06-16T11:18:05.359Z"
   },
   {
    "duration": 1281,
    "start_time": "2025-06-16T11:18:32.542Z"
   },
   {
    "duration": 1189,
    "start_time": "2025-06-16T11:18:33.825Z"
   },
   {
    "duration": 164,
    "start_time": "2025-06-16T11:18:35.015Z"
   },
   {
    "duration": 391,
    "start_time": "2025-06-16T11:18:35.181Z"
   },
   {
    "duration": 5,
    "start_time": "2025-06-16T11:18:35.575Z"
   },
   {
    "duration": 692,
    "start_time": "2025-06-16T11:18:35.581Z"
   },
   {
    "duration": 43,
    "start_time": "2025-06-16T11:18:36.275Z"
   },
   {
    "duration": 1273,
    "start_time": "2025-06-16T11:18:36.320Z"
   },
   {
    "duration": 386,
    "start_time": "2025-06-16T11:18:37.595Z"
   },
   {
    "duration": 9,
    "start_time": "2025-06-16T11:18:37.983Z"
   },
   {
    "duration": 387,
    "start_time": "2025-06-16T11:18:37.994Z"
   },
   {
    "duration": 446,
    "start_time": "2025-06-16T11:18:38.383Z"
   },
   {
    "duration": 21,
    "start_time": "2025-06-16T11:18:38.832Z"
   },
   {
    "duration": 178,
    "start_time": "2025-06-16T11:18:38.858Z"
   },
   {
    "duration": 54,
    "start_time": "2025-06-16T11:18:39.038Z"
   },
   {
    "duration": 18,
    "start_time": "2025-06-16T11:18:39.094Z"
   },
   {
    "duration": 11,
    "start_time": "2025-06-16T11:18:39.114Z"
   },
   {
    "duration": 49,
    "start_time": "2025-06-16T11:18:39.127Z"
   },
   {
    "duration": 10,
    "start_time": "2025-06-16T11:18:39.177Z"
   },
   {
    "duration": 7,
    "start_time": "2025-06-16T11:18:39.195Z"
   },
   {
    "duration": 297,
    "start_time": "2025-06-16T11:18:39.204Z"
   },
   {
    "duration": 10,
    "start_time": "2025-06-16T11:18:39.503Z"
   },
   {
    "duration": 423,
    "start_time": "2025-06-16T11:18:39.515Z"
   },
   {
    "duration": 351,
    "start_time": "2025-06-16T11:18:39.940Z"
   },
   {
    "duration": 316,
    "start_time": "2025-06-16T11:18:40.293Z"
   },
   {
    "duration": 61,
    "start_time": "2025-06-16T11:18:40.611Z"
   },
   {
    "duration": 103,
    "start_time": "2025-06-16T11:18:40.675Z"
   },
   {
    "duration": 5,
    "start_time": "2025-06-16T11:18:40.781Z"
   },
   {
    "duration": 7,
    "start_time": "2025-06-16T11:18:40.789Z"
   },
   {
    "duration": 72,
    "start_time": "2025-06-16T11:18:40.798Z"
   },
   {
    "duration": 39,
    "start_time": "2025-06-16T11:18:40.872Z"
   },
   {
    "duration": 56,
    "start_time": "2025-06-16T11:18:40.913Z"
   },
   {
    "duration": 1269,
    "start_time": "2025-06-16T12:24:12.371Z"
   },
   {
    "duration": 1187,
    "start_time": "2025-06-16T12:24:13.642Z"
   },
   {
    "duration": 163,
    "start_time": "2025-06-16T12:24:14.830Z"
   },
   {
    "duration": 389,
    "start_time": "2025-06-16T12:24:14.995Z"
   },
   {
    "duration": 5,
    "start_time": "2025-06-16T12:24:15.387Z"
   },
   {
    "duration": 661,
    "start_time": "2025-06-16T12:24:15.393Z"
   },
   {
    "duration": 42,
    "start_time": "2025-06-16T12:24:16.060Z"
   },
   {
    "duration": 1240,
    "start_time": "2025-06-16T12:24:16.104Z"
   },
   {
    "duration": 341,
    "start_time": "2025-06-16T12:24:17.346Z"
   },
   {
    "duration": 8,
    "start_time": "2025-06-16T12:24:17.689Z"
   },
   {
    "duration": 371,
    "start_time": "2025-06-16T12:24:17.699Z"
   },
   {
    "duration": 441,
    "start_time": "2025-06-16T12:24:18.072Z"
   },
   {
    "duration": 17,
    "start_time": "2025-06-16T12:24:18.515Z"
   },
   {
    "duration": 163,
    "start_time": "2025-06-16T12:24:18.535Z"
   },
   {
    "duration": 39,
    "start_time": "2025-06-16T12:24:18.700Z"
   },
   {
    "duration": 13,
    "start_time": "2025-06-16T12:24:18.741Z"
   },
   {
    "duration": 23,
    "start_time": "2025-06-16T12:24:18.760Z"
   },
   {
    "duration": 4,
    "start_time": "2025-06-16T12:24:18.785Z"
   },
   {
    "duration": 16,
    "start_time": "2025-06-16T12:24:18.790Z"
   },
   {
    "duration": 85,
    "start_time": "2025-06-16T12:24:18.808Z"
   },
   {
    "duration": 303,
    "start_time": "2025-06-16T12:24:18.895Z"
   },
   {
    "duration": 10,
    "start_time": "2025-06-16T12:24:19.200Z"
   },
   {
    "duration": 432,
    "start_time": "2025-06-16T12:24:19.212Z"
   },
   {
    "duration": 344,
    "start_time": "2025-06-16T12:24:19.646Z"
   },
   {
    "duration": 272,
    "start_time": "2025-06-16T12:24:19.992Z"
   },
   {
    "duration": 50,
    "start_time": "2025-06-16T12:24:20.265Z"
   },
   {
    "duration": 92,
    "start_time": "2025-06-16T12:24:20.317Z"
   },
   {
    "duration": 4,
    "start_time": "2025-06-16T12:24:20.411Z"
   },
   {
    "duration": 40,
    "start_time": "2025-06-16T12:24:20.417Z"
   },
   {
    "duration": 49,
    "start_time": "2025-06-16T12:24:20.458Z"
   },
   {
    "duration": 36,
    "start_time": "2025-06-16T12:24:20.509Z"
   },
   {
    "duration": 30,
    "start_time": "2025-06-16T12:24:20.561Z"
   },
   {
    "duration": 1305,
    "start_time": "2025-06-16T12:36:05.528Z"
   },
   {
    "duration": 1246,
    "start_time": "2025-06-16T12:36:06.835Z"
   },
   {
    "duration": 166,
    "start_time": "2025-06-16T12:36:08.083Z"
   },
   {
    "duration": 394,
    "start_time": "2025-06-16T12:36:08.261Z"
   },
   {
    "duration": 4,
    "start_time": "2025-06-16T12:36:08.660Z"
   },
   {
    "duration": 675,
    "start_time": "2025-06-16T12:36:08.666Z"
   },
   {
    "duration": 48,
    "start_time": "2025-06-16T12:36:09.344Z"
   },
   {
    "duration": 1295,
    "start_time": "2025-06-16T12:36:09.394Z"
   },
   {
    "duration": 388,
    "start_time": "2025-06-16T12:36:10.691Z"
   },
   {
    "duration": 8,
    "start_time": "2025-06-16T12:36:11.081Z"
   },
   {
    "duration": 382,
    "start_time": "2025-06-16T12:36:11.091Z"
   },
   {
    "duration": 434,
    "start_time": "2025-06-16T12:36:11.475Z"
   },
   {
    "duration": 16,
    "start_time": "2025-06-16T12:36:11.911Z"
   },
   {
    "duration": 163,
    "start_time": "2025-06-16T12:36:11.930Z"
   },
   {
    "duration": 38,
    "start_time": "2025-06-16T12:36:12.095Z"
   },
   {
    "duration": 15,
    "start_time": "2025-06-16T12:36:12.134Z"
   },
   {
    "duration": 18,
    "start_time": "2025-06-16T12:36:12.151Z"
   },
   {
    "duration": 4,
    "start_time": "2025-06-16T12:36:12.171Z"
   },
   {
    "duration": 15,
    "start_time": "2025-06-16T12:36:12.177Z"
   },
   {
    "duration": 5,
    "start_time": "2025-06-16T12:36:12.194Z"
   },
   {
    "duration": 295,
    "start_time": "2025-06-16T12:36:12.201Z"
   },
   {
    "duration": 9,
    "start_time": "2025-06-16T12:36:12.498Z"
   },
   {
    "duration": 425,
    "start_time": "2025-06-16T12:36:12.509Z"
   },
   {
    "duration": 344,
    "start_time": "2025-06-16T12:36:12.936Z"
   },
   {
    "duration": 292,
    "start_time": "2025-06-16T12:36:13.282Z"
   },
   {
    "duration": 47,
    "start_time": "2025-06-16T12:36:13.576Z"
   },
   {
    "duration": 133,
    "start_time": "2025-06-16T12:36:13.624Z"
   },
   {
    "duration": 4,
    "start_time": "2025-06-16T12:36:13.759Z"
   },
   {
    "duration": 82,
    "start_time": "2025-06-16T12:36:13.765Z"
   },
   {
    "duration": 55,
    "start_time": "2025-06-16T12:36:13.848Z"
   },
   {
    "duration": 40,
    "start_time": "2025-06-16T12:36:13.906Z"
   },
   {
    "duration": 137,
    "start_time": "2025-06-16T12:36:13.948Z"
   },
   {
    "duration": 1240,
    "start_time": "2025-06-16T12:37:03.792Z"
   },
   {
    "duration": 1268,
    "start_time": "2025-06-16T12:37:05.034Z"
   },
   {
    "duration": 171,
    "start_time": "2025-06-16T12:37:06.304Z"
   },
   {
    "duration": 408,
    "start_time": "2025-06-16T12:37:06.478Z"
   },
   {
    "duration": 4,
    "start_time": "2025-06-16T12:37:06.888Z"
   },
   {
    "duration": 701,
    "start_time": "2025-06-16T12:37:06.894Z"
   },
   {
    "duration": 43,
    "start_time": "2025-06-16T12:37:07.597Z"
   },
   {
    "duration": 1261,
    "start_time": "2025-06-16T12:37:07.643Z"
   },
   {
    "duration": 389,
    "start_time": "2025-06-16T12:37:08.906Z"
   },
   {
    "duration": 8,
    "start_time": "2025-06-16T12:37:09.298Z"
   },
   {
    "duration": 345,
    "start_time": "2025-06-16T12:37:09.307Z"
   },
   {
    "duration": 415,
    "start_time": "2025-06-16T12:37:09.654Z"
   },
   {
    "duration": 19,
    "start_time": "2025-06-16T12:37:10.072Z"
   },
   {
    "duration": 173,
    "start_time": "2025-06-16T12:37:10.094Z"
   },
   {
    "duration": 38,
    "start_time": "2025-06-16T12:37:10.270Z"
   },
   {
    "duration": 13,
    "start_time": "2025-06-16T12:37:10.310Z"
   },
   {
    "duration": 18,
    "start_time": "2025-06-16T12:37:10.325Z"
   },
   {
    "duration": 17,
    "start_time": "2025-06-16T12:37:10.345Z"
   },
   {
    "duration": 13,
    "start_time": "2025-06-16T12:37:10.364Z"
   },
   {
    "duration": 10,
    "start_time": "2025-06-16T12:37:10.379Z"
   },
   {
    "duration": 298,
    "start_time": "2025-06-16T12:37:10.390Z"
   },
   {
    "duration": 9,
    "start_time": "2025-06-16T12:37:10.690Z"
   },
   {
    "duration": 418,
    "start_time": "2025-06-16T12:37:10.701Z"
   },
   {
    "duration": 344,
    "start_time": "2025-06-16T12:37:11.120Z"
   },
   {
    "duration": 272,
    "start_time": "2025-06-16T12:37:11.466Z"
   },
   {
    "duration": 49,
    "start_time": "2025-06-16T12:37:11.740Z"
   },
   {
    "duration": 103,
    "start_time": "2025-06-16T12:37:11.791Z"
   },
   {
    "duration": 5,
    "start_time": "2025-06-16T12:37:11.898Z"
   },
   {
    "duration": 4,
    "start_time": "2025-06-16T12:37:11.905Z"
   },
   {
    "duration": 65,
    "start_time": "2025-06-16T12:37:11.911Z"
   },
   {
    "duration": 39,
    "start_time": "2025-06-16T12:37:11.978Z"
   },
   {
    "duration": 53,
    "start_time": "2025-06-16T12:37:12.020Z"
   },
   {
    "duration": 177,
    "start_time": "2025-06-16T12:37:43.207Z"
   },
   {
    "duration": 33,
    "start_time": "2025-06-16T12:50:17.324Z"
   },
   {
    "duration": 1275,
    "start_time": "2025-06-16T12:53:12.464Z"
   },
   {
    "duration": 1209,
    "start_time": "2025-06-16T12:53:13.742Z"
   },
   {
    "duration": 170,
    "start_time": "2025-06-16T12:53:14.959Z"
   },
   {
    "duration": 403,
    "start_time": "2025-06-16T12:53:15.131Z"
   },
   {
    "duration": 5,
    "start_time": "2025-06-16T12:53:15.536Z"
   },
   {
    "duration": 765,
    "start_time": "2025-06-16T12:53:15.542Z"
   },
   {
    "duration": 57,
    "start_time": "2025-06-16T12:53:16.309Z"
   },
   {
    "duration": 1228,
    "start_time": "2025-06-16T12:53:16.367Z"
   },
   {
    "duration": 374,
    "start_time": "2025-06-16T12:53:17.597Z"
   },
   {
    "duration": 8,
    "start_time": "2025-06-16T12:53:17.973Z"
   },
   {
    "duration": 453,
    "start_time": "2025-06-16T12:53:17.983Z"
   },
   {
    "duration": 399,
    "start_time": "2025-06-16T12:53:18.438Z"
   },
   {
    "duration": 20,
    "start_time": "2025-06-16T12:53:18.840Z"
   },
   {
    "duration": 178,
    "start_time": "2025-06-16T12:53:18.865Z"
   },
   {
    "duration": 37,
    "start_time": "2025-06-16T12:53:19.046Z"
   },
   {
    "duration": 12,
    "start_time": "2025-06-16T12:53:19.085Z"
   },
   {
    "duration": 10,
    "start_time": "2025-06-16T12:53:19.099Z"
   },
   {
    "duration": 4,
    "start_time": "2025-06-16T12:53:19.111Z"
   },
   {
    "duration": 12,
    "start_time": "2025-06-16T12:53:19.117Z"
   },
   {
    "duration": 30,
    "start_time": "2025-06-16T12:53:19.131Z"
   },
   {
    "duration": 252,
    "start_time": "2025-06-16T12:53:19.163Z"
   },
   {
    "duration": 9,
    "start_time": "2025-06-16T12:53:19.417Z"
   },
   {
    "duration": 403,
    "start_time": "2025-06-16T12:53:19.428Z"
   },
   {
    "duration": 337,
    "start_time": "2025-06-16T12:53:19.833Z"
   },
   {
    "duration": 289,
    "start_time": "2025-06-16T12:53:20.172Z"
   },
   {
    "duration": 48,
    "start_time": "2025-06-16T12:53:20.463Z"
   },
   {
    "duration": 104,
    "start_time": "2025-06-16T12:53:20.513Z"
   },
   {
    "duration": 5,
    "start_time": "2025-06-16T12:53:20.619Z"
   },
   {
    "duration": 11,
    "start_time": "2025-06-16T12:53:20.625Z"
   },
   {
    "duration": 58,
    "start_time": "2025-06-16T12:53:20.638Z"
   },
   {
    "duration": 39,
    "start_time": "2025-06-16T12:53:20.698Z"
   },
   {
    "duration": 48,
    "start_time": "2025-06-16T12:53:20.739Z"
   },
   {
    "duration": 1245,
    "start_time": "2025-06-16T12:56:00.294Z"
   },
   {
    "duration": 1213,
    "start_time": "2025-06-16T12:56:01.541Z"
   },
   {
    "duration": 159,
    "start_time": "2025-06-16T12:56:02.760Z"
   },
   {
    "duration": 398,
    "start_time": "2025-06-16T12:56:02.921Z"
   },
   {
    "duration": 4,
    "start_time": "2025-06-16T12:56:03.321Z"
   },
   {
    "duration": 637,
    "start_time": "2025-06-16T12:56:03.327Z"
   },
   {
    "duration": 44,
    "start_time": "2025-06-16T12:56:03.966Z"
   },
   {
    "duration": 1398,
    "start_time": "2025-06-16T12:56:04.012Z"
   },
   {
    "duration": 393,
    "start_time": "2025-06-16T12:56:05.411Z"
   },
   {
    "duration": 8,
    "start_time": "2025-06-16T12:56:05.807Z"
   },
   {
    "duration": 408,
    "start_time": "2025-06-16T12:56:05.817Z"
   },
   {
    "duration": 382,
    "start_time": "2025-06-16T12:56:06.226Z"
   },
   {
    "duration": 24,
    "start_time": "2025-06-16T12:56:06.610Z"
   },
   {
    "duration": 201,
    "start_time": "2025-06-16T12:56:06.636Z"
   },
   {
    "duration": 37,
    "start_time": "2025-06-16T12:56:06.838Z"
   },
   {
    "duration": 13,
    "start_time": "2025-06-16T12:56:06.877Z"
   },
   {
    "duration": 11,
    "start_time": "2025-06-16T12:56:06.892Z"
   },
   {
    "duration": 14,
    "start_time": "2025-06-16T12:56:06.904Z"
   },
   {
    "duration": 82,
    "start_time": "2025-06-16T12:56:06.921Z"
   },
   {
    "duration": 34,
    "start_time": "2025-06-16T12:56:07.005Z"
   },
   {
    "duration": 258,
    "start_time": "2025-06-16T12:56:07.041Z"
   },
   {
    "duration": 9,
    "start_time": "2025-06-16T12:56:07.300Z"
   },
   {
    "duration": 415,
    "start_time": "2025-06-16T12:56:07.310Z"
   },
   {
    "duration": 343,
    "start_time": "2025-06-16T12:56:07.727Z"
   },
   {
    "duration": 284,
    "start_time": "2025-06-16T12:56:08.072Z"
   },
   {
    "duration": 50,
    "start_time": "2025-06-16T12:56:08.359Z"
   },
   {
    "duration": 105,
    "start_time": "2025-06-16T12:56:08.411Z"
   },
   {
    "duration": 4,
    "start_time": "2025-06-16T12:56:08.520Z"
   },
   {
    "duration": 18,
    "start_time": "2025-06-16T12:56:08.526Z"
   },
   {
    "duration": 50,
    "start_time": "2025-06-16T12:56:08.546Z"
   },
   {
    "duration": 39,
    "start_time": "2025-06-16T12:56:08.598Z"
   },
   {
    "duration": 48,
    "start_time": "2025-06-16T12:56:08.639Z"
   },
   {
    "duration": 1304,
    "start_time": "2025-06-16T12:57:04.027Z"
   },
   {
    "duration": 1251,
    "start_time": "2025-06-16T12:57:05.333Z"
   },
   {
    "duration": 174,
    "start_time": "2025-06-16T12:57:06.586Z"
   },
   {
    "duration": 394,
    "start_time": "2025-06-16T12:57:06.762Z"
   },
   {
    "duration": 4,
    "start_time": "2025-06-16T12:57:07.161Z"
   },
   {
    "duration": 654,
    "start_time": "2025-06-16T12:57:07.167Z"
   },
   {
    "duration": 52,
    "start_time": "2025-06-16T12:57:07.823Z"
   },
   {
    "duration": 1249,
    "start_time": "2025-06-16T12:57:07.877Z"
   },
   {
    "duration": 374,
    "start_time": "2025-06-16T12:57:09.127Z"
   },
   {
    "duration": 12,
    "start_time": "2025-06-16T12:57:09.503Z"
   },
   {
    "duration": 346,
    "start_time": "2025-06-16T12:57:09.517Z"
   },
   {
    "duration": 419,
    "start_time": "2025-06-16T12:57:09.864Z"
   },
   {
    "duration": 17,
    "start_time": "2025-06-16T12:57:10.285Z"
   },
   {
    "duration": 182,
    "start_time": "2025-06-16T12:57:10.305Z"
   },
   {
    "duration": 37,
    "start_time": "2025-06-16T12:57:10.489Z"
   },
   {
    "duration": 20,
    "start_time": "2025-06-16T12:57:10.528Z"
   },
   {
    "duration": 19,
    "start_time": "2025-06-16T12:57:10.550Z"
   },
   {
    "duration": 13,
    "start_time": "2025-06-16T12:57:10.570Z"
   },
   {
    "duration": 14,
    "start_time": "2025-06-16T12:57:10.585Z"
   },
   {
    "duration": 8,
    "start_time": "2025-06-16T12:57:10.601Z"
   },
   {
    "duration": 288,
    "start_time": "2025-06-16T12:57:10.611Z"
   },
   {
    "duration": 9,
    "start_time": "2025-06-16T12:57:10.900Z"
   },
   {
    "duration": 429,
    "start_time": "2025-06-16T12:57:10.911Z"
   },
   {
    "duration": 333,
    "start_time": "2025-06-16T12:57:11.342Z"
   },
   {
    "duration": 277,
    "start_time": "2025-06-16T12:57:11.678Z"
   },
   {
    "duration": 48,
    "start_time": "2025-06-16T12:57:11.957Z"
   },
   {
    "duration": 109,
    "start_time": "2025-06-16T12:57:12.007Z"
   },
   {
    "duration": 4,
    "start_time": "2025-06-16T12:57:12.118Z"
   },
   {
    "duration": 6,
    "start_time": "2025-06-16T12:57:12.123Z"
   },
   {
    "duration": 63,
    "start_time": "2025-06-16T12:57:12.131Z"
   },
   {
    "duration": 40,
    "start_time": "2025-06-16T12:57:12.196Z"
   },
   {
    "duration": 46,
    "start_time": "2025-06-16T12:57:12.239Z"
   },
   {
    "duration": 1364,
    "start_time": "2025-06-16T15:56:02.149Z"
   },
   {
    "duration": 1084,
    "start_time": "2025-06-16T15:56:03.515Z"
   },
   {
    "duration": 141,
    "start_time": "2025-06-16T15:56:04.600Z"
   },
   {
    "duration": 325,
    "start_time": "2025-06-16T15:56:04.742Z"
   },
   {
    "duration": 4,
    "start_time": "2025-06-16T15:56:05.070Z"
   },
   {
    "duration": 511,
    "start_time": "2025-06-16T15:56:05.075Z"
   },
   {
    "duration": 36,
    "start_time": "2025-06-16T15:56:05.587Z"
   },
   {
    "duration": 1734,
    "start_time": "2025-06-16T15:56:05.625Z"
   },
   {
    "duration": 304,
    "start_time": "2025-06-16T15:56:07.361Z"
   },
   {
    "duration": 7,
    "start_time": "2025-06-16T15:56:07.670Z"
   },
   {
    "duration": 276,
    "start_time": "2025-06-16T15:56:07.679Z"
   },
   {
    "duration": 344,
    "start_time": "2025-06-16T15:56:07.956Z"
   },
   {
    "duration": 16,
    "start_time": "2025-06-16T15:56:08.302Z"
   },
   {
    "duration": 118,
    "start_time": "2025-06-16T15:56:08.322Z"
   },
   {
    "duration": 33,
    "start_time": "2025-06-16T15:56:08.441Z"
   },
   {
    "duration": 25,
    "start_time": "2025-06-16T15:56:08.475Z"
   },
   {
    "duration": 23,
    "start_time": "2025-06-16T15:56:08.502Z"
   },
   {
    "duration": 12,
    "start_time": "2025-06-16T15:56:08.527Z"
   },
   {
    "duration": 8,
    "start_time": "2025-06-16T15:56:08.540Z"
   },
   {
    "duration": 8,
    "start_time": "2025-06-16T15:56:08.549Z"
   },
   {
    "duration": 232,
    "start_time": "2025-06-16T15:56:08.559Z"
   },
   {
    "duration": 8,
    "start_time": "2025-06-16T15:56:08.792Z"
   },
   {
    "duration": 392,
    "start_time": "2025-06-16T15:56:08.801Z"
   },
   {
    "duration": 293,
    "start_time": "2025-06-16T15:56:09.195Z"
   },
   {
    "duration": 245,
    "start_time": "2025-06-16T15:56:09.490Z"
   },
   {
    "duration": 43,
    "start_time": "2025-06-16T15:56:09.737Z"
   },
   {
    "duration": 61,
    "start_time": "2025-06-16T15:56:09.782Z"
   },
   {
    "duration": 3,
    "start_time": "2025-06-16T15:56:09.845Z"
   },
   {
    "duration": 27,
    "start_time": "2025-06-16T15:56:09.850Z"
   },
   {
    "duration": 35,
    "start_time": "2025-06-16T15:56:09.879Z"
   },
   {
    "duration": 52,
    "start_time": "2025-06-16T15:56:09.916Z"
   },
   {
    "duration": 24,
    "start_time": "2025-06-16T15:56:09.969Z"
   },
   {
    "duration": 368,
    "start_time": "2025-06-16T15:59:08.086Z"
   },
   {
    "duration": 1291,
    "start_time": "2025-06-16T16:00:24.309Z"
   },
   {
    "duration": 575,
    "start_time": "2025-06-16T16:00:43.140Z"
   },
   {
    "duration": 0,
    "start_time": "2025-06-16T16:01:28.841Z"
   },
   {
    "duration": 26987,
    "start_time": "2025-06-16T16:01:58.973Z"
   },
   {
    "duration": 892,
    "start_time": "2025-06-16T16:04:16.685Z"
   },
   {
    "duration": 308,
    "start_time": "2025-06-16T16:04:18.351Z"
   },
   {
    "duration": 6,
    "start_time": "2025-06-16T16:04:38.696Z"
   },
   {
    "duration": 106,
    "start_time": "2025-06-16T16:06:29.569Z"
   },
   {
    "duration": 63,
    "start_time": "2025-06-17T04:41:04.099Z"
   },
   {
    "duration": 1391,
    "start_time": "2025-06-17T04:41:27.089Z"
   },
   {
    "duration": 1089,
    "start_time": "2025-06-17T04:41:28.482Z"
   },
   {
    "duration": 156,
    "start_time": "2025-06-17T04:41:29.573Z"
   },
   {
    "duration": 366,
    "start_time": "2025-06-17T04:41:29.732Z"
   },
   {
    "duration": 5,
    "start_time": "2025-06-17T04:41:30.100Z"
   },
   {
    "duration": 617,
    "start_time": "2025-06-17T04:41:30.106Z"
   },
   {
    "duration": 45,
    "start_time": "2025-06-17T04:41:30.725Z"
   },
   {
    "duration": 1237,
    "start_time": "2025-06-17T04:41:30.772Z"
   },
   {
    "duration": 334,
    "start_time": "2025-06-17T04:41:32.010Z"
   },
   {
    "duration": 7,
    "start_time": "2025-06-17T04:41:32.347Z"
   },
   {
    "duration": 323,
    "start_time": "2025-06-17T04:41:32.355Z"
   },
   {
    "duration": 392,
    "start_time": "2025-06-17T04:41:32.681Z"
   },
   {
    "duration": 16,
    "start_time": "2025-06-17T04:41:33.075Z"
   },
   {
    "duration": 163,
    "start_time": "2025-06-17T04:41:33.093Z"
   },
   {
    "duration": 38,
    "start_time": "2025-06-17T04:41:33.258Z"
   },
   {
    "duration": 13,
    "start_time": "2025-06-17T04:41:33.297Z"
   },
   {
    "duration": 30,
    "start_time": "2025-06-17T04:41:33.312Z"
   },
   {
    "duration": 90,
    "start_time": "2025-06-17T04:41:33.345Z"
   },
   {
    "duration": 39,
    "start_time": "2025-06-17T04:41:33.437Z"
   },
   {
    "duration": 27,
    "start_time": "2025-06-17T04:41:33.478Z"
   },
   {
    "duration": 258,
    "start_time": "2025-06-17T04:41:33.507Z"
   },
   {
    "duration": 9,
    "start_time": "2025-06-17T04:41:33.766Z"
   },
   {
    "duration": 440,
    "start_time": "2025-06-17T04:41:33.776Z"
   },
   {
    "duration": 332,
    "start_time": "2025-06-17T04:41:34.219Z"
   },
   {
    "duration": 298,
    "start_time": "2025-06-17T04:41:34.553Z"
   },
   {
    "duration": 50,
    "start_time": "2025-06-17T04:41:34.852Z"
   },
   {
    "duration": 106,
    "start_time": "2025-06-17T04:41:34.904Z"
   },
   {
    "duration": 5,
    "start_time": "2025-06-17T04:41:35.015Z"
   },
   {
    "duration": 13,
    "start_time": "2025-06-17T04:41:35.037Z"
   },
   {
    "duration": 44,
    "start_time": "2025-06-17T04:41:35.051Z"
   },
   {
    "duration": 69,
    "start_time": "2025-06-17T04:41:35.097Z"
   },
   {
    "duration": 43,
    "start_time": "2025-06-17T04:41:35.168Z"
   },
   {
    "duration": 56,
    "start_time": "2025-06-17T04:44:12.443Z"
   },
   {
    "duration": 51,
    "start_time": "2025-06-17T04:44:24.176Z"
   },
   {
    "duration": 1065,
    "start_time": "2025-06-17T04:44:41.218Z"
   },
   {
    "duration": 6,
    "start_time": "2025-06-17T04:45:15.867Z"
   },
   {
    "duration": 1021,
    "start_time": "2025-06-17T04:45:29.598Z"
   },
   {
    "duration": 542,
    "start_time": "2025-06-17T04:45:56.879Z"
   },
   {
    "duration": 42,
    "start_time": "2025-06-17T04:46:08.448Z"
   },
   {
    "duration": 956,
    "start_time": "2025-06-17T05:00:35.433Z"
   },
   {
    "duration": 732,
    "start_time": "2025-06-17T05:06:03.202Z"
   },
   {
    "duration": 9,
    "start_time": "2025-06-17T06:21:40.169Z"
   },
   {
    "duration": 47,
    "start_time": "2025-06-17T06:35:54.638Z"
   },
   {
    "duration": 389,
    "start_time": "2025-06-17T07:00:16.991Z"
   },
   {
    "duration": 417,
    "start_time": "2025-06-17T07:18:16.288Z"
   },
   {
    "duration": 329,
    "start_time": "2025-06-17T07:18:20.034Z"
   },
   {
    "duration": 265,
    "start_time": "2025-06-17T07:18:45.366Z"
   },
   {
    "duration": 6,
    "start_time": "2025-06-17T07:34:28.023Z"
   },
   {
    "duration": 47,
    "start_time": "2025-06-17T07:34:39.546Z"
   },
   {
    "duration": 46,
    "start_time": "2025-06-17T08:01:15.327Z"
   },
   {
    "duration": 46,
    "start_time": "2025-06-17T08:01:33.909Z"
   },
   {
    "duration": 1717,
    "start_time": "2025-06-17T09:39:45.155Z"
   },
   {
    "duration": 1224,
    "start_time": "2025-06-17T09:40:10.254Z"
   },
   {
    "duration": 1175,
    "start_time": "2025-06-17T09:40:11.480Z"
   },
   {
    "duration": 160,
    "start_time": "2025-06-17T09:40:12.657Z"
   },
   {
    "duration": 370,
    "start_time": "2025-06-17T09:40:12.819Z"
   },
   {
    "duration": 5,
    "start_time": "2025-06-17T09:40:13.192Z"
   },
   {
    "duration": 623,
    "start_time": "2025-06-17T09:40:13.199Z"
   },
   {
    "duration": 52,
    "start_time": "2025-06-17T09:40:13.824Z"
   },
   {
    "duration": 680,
    "start_time": "2025-06-17T09:40:13.877Z"
   },
   {
    "duration": 387,
    "start_time": "2025-06-17T09:40:14.559Z"
   },
   {
    "duration": 9,
    "start_time": "2025-06-17T09:40:14.948Z"
   },
   {
    "duration": 382,
    "start_time": "2025-06-17T09:40:14.958Z"
   },
   {
    "duration": 407,
    "start_time": "2025-06-17T09:40:15.342Z"
   },
   {
    "duration": 17,
    "start_time": "2025-06-17T09:40:15.751Z"
   },
   {
    "duration": 185,
    "start_time": "2025-06-17T09:40:15.771Z"
   },
   {
    "duration": 32,
    "start_time": "2025-06-17T09:40:15.957Z"
   },
   {
    "duration": 14,
    "start_time": "2025-06-17T09:40:15.991Z"
   },
   {
    "duration": 38,
    "start_time": "2025-06-17T09:40:16.007Z"
   },
   {
    "duration": 5,
    "start_time": "2025-06-17T09:40:16.047Z"
   },
   {
    "duration": 10,
    "start_time": "2025-06-17T09:40:16.054Z"
   },
   {
    "duration": 5,
    "start_time": "2025-06-17T09:40:16.066Z"
   },
   {
    "duration": 307,
    "start_time": "2025-06-17T09:40:16.072Z"
   },
   {
    "duration": 8,
    "start_time": "2025-06-17T09:40:16.382Z"
   },
   {
    "duration": 405,
    "start_time": "2025-06-17T09:40:16.392Z"
   },
   {
    "duration": 344,
    "start_time": "2025-06-17T09:40:16.799Z"
   },
   {
    "duration": 264,
    "start_time": "2025-06-17T09:40:17.145Z"
   },
   {
    "duration": 52,
    "start_time": "2025-06-17T09:40:17.410Z"
   },
   {
    "duration": 254,
    "start_time": "2025-06-17T09:40:17.464Z"
   },
   {
    "duration": 6,
    "start_time": "2025-06-17T09:40:17.719Z"
   },
   {
    "duration": 19,
    "start_time": "2025-06-17T09:40:17.726Z"
   },
   {
    "duration": 135,
    "start_time": "2025-06-17T09:40:17.747Z"
   },
   {
    "duration": 34,
    "start_time": "2025-06-17T09:40:17.884Z"
   },
   {
    "duration": 48,
    "start_time": "2025-06-17T09:40:17.919Z"
   },
   {
    "duration": 42,
    "start_time": "2025-06-17T09:41:18.627Z"
   },
   {
    "duration": 31,
    "start_time": "2025-06-17T09:41:35.347Z"
   },
   {
    "duration": 6,
    "start_time": "2025-06-17T09:52:33.058Z"
   },
   {
    "duration": 9,
    "start_time": "2025-06-17T09:52:43.153Z"
   },
   {
    "duration": 163,
    "start_time": "2025-06-17T09:52:56.325Z"
   },
   {
    "duration": 17,
    "start_time": "2025-06-17T09:53:06.152Z"
   },
   {
    "duration": 358,
    "start_time": "2025-06-17T09:53:37.313Z"
   },
   {
    "duration": 5,
    "start_time": "2025-06-17T09:54:00.513Z"
   },
   {
    "duration": 8,
    "start_time": "2025-06-17T09:54:11.198Z"
   },
   {
    "duration": 44,
    "start_time": "2025-06-17T09:55:00.560Z"
   },
   {
    "duration": 44,
    "start_time": "2025-06-17T09:55:09.002Z"
   },
   {
    "duration": 45,
    "start_time": "2025-06-17T09:55:14.299Z"
   },
   {
    "duration": 43,
    "start_time": "2025-06-17T09:55:35.476Z"
   },
   {
    "duration": 33,
    "start_time": "2025-06-17T09:56:00.994Z"
   },
   {
    "duration": 32,
    "start_time": "2025-06-17T09:56:10.062Z"
   },
   {
    "duration": 43,
    "start_time": "2025-06-17T09:56:17.850Z"
   },
   {
    "duration": 42,
    "start_time": "2025-06-17T09:57:21.665Z"
   },
   {
    "duration": 33,
    "start_time": "2025-06-17T09:58:08.305Z"
   },
   {
    "duration": 1195,
    "start_time": "2025-06-17T10:29:09.680Z"
   },
   {
    "duration": 1131,
    "start_time": "2025-06-17T10:29:10.877Z"
   },
   {
    "duration": 155,
    "start_time": "2025-06-17T10:29:12.009Z"
   },
   {
    "duration": 372,
    "start_time": "2025-06-17T10:29:12.166Z"
   },
   {
    "duration": 6,
    "start_time": "2025-06-17T10:29:12.540Z"
   },
   {
    "duration": 630,
    "start_time": "2025-06-17T10:29:12.547Z"
   },
   {
    "duration": 60,
    "start_time": "2025-06-17T10:29:13.179Z"
   },
   {
    "duration": 644,
    "start_time": "2025-06-17T10:29:13.240Z"
   },
   {
    "duration": 395,
    "start_time": "2025-06-17T10:29:13.886Z"
   },
   {
    "duration": 9,
    "start_time": "2025-06-17T10:29:14.283Z"
   },
   {
    "duration": 333,
    "start_time": "2025-06-17T10:29:14.293Z"
   },
   {
    "duration": 426,
    "start_time": "2025-06-17T10:29:14.628Z"
   },
   {
    "duration": 19,
    "start_time": "2025-06-17T10:29:15.056Z"
   },
   {
    "duration": 190,
    "start_time": "2025-06-17T10:29:15.079Z"
   },
   {
    "duration": 31,
    "start_time": "2025-06-17T10:29:15.271Z"
   },
   {
    "duration": 16,
    "start_time": "2025-06-17T10:29:15.304Z"
   },
   {
    "duration": 27,
    "start_time": "2025-06-17T10:29:15.322Z"
   },
   {
    "duration": 34,
    "start_time": "2025-06-17T10:29:15.351Z"
   },
   {
    "duration": 43,
    "start_time": "2025-06-17T10:29:15.387Z"
   },
   {
    "duration": 20,
    "start_time": "2025-06-17T10:29:15.433Z"
   },
   {
    "duration": 225,
    "start_time": "2025-06-17T10:29:15.455Z"
   },
   {
    "duration": 61,
    "start_time": "2025-06-17T10:29:15.681Z"
   },
   {
    "duration": 509,
    "start_time": "2025-06-17T10:29:15.743Z"
   },
   {
    "duration": 312,
    "start_time": "2025-06-17T10:29:16.254Z"
   },
   {
    "duration": 255,
    "start_time": "2025-06-17T10:29:16.568Z"
   },
   {
    "duration": 51,
    "start_time": "2025-06-17T10:29:16.825Z"
   },
   {
    "duration": 156,
    "start_time": "2025-06-17T10:29:16.877Z"
   },
   {
    "duration": 5,
    "start_time": "2025-06-17T10:29:17.035Z"
   },
   {
    "duration": 10,
    "start_time": "2025-06-17T10:29:17.041Z"
   },
   {
    "duration": 141,
    "start_time": "2025-06-17T10:29:17.053Z"
   },
   {
    "duration": 46,
    "start_time": "2025-06-17T10:29:17.196Z"
   },
   {
    "duration": 30,
    "start_time": "2025-06-17T10:29:17.243Z"
   },
   {
    "duration": 1447,
    "start_time": "2025-08-06T05:24:51.624Z"
   },
   {
    "duration": 1078,
    "start_time": "2025-08-06T05:24:53.074Z"
   },
   {
    "duration": 151,
    "start_time": "2025-08-06T05:24:54.154Z"
   },
   {
    "duration": 334,
    "start_time": "2025-08-06T05:24:54.307Z"
   },
   {
    "duration": 5,
    "start_time": "2025-08-06T05:24:54.643Z"
   },
   {
    "duration": 580,
    "start_time": "2025-08-06T05:24:54.649Z"
   },
   {
    "duration": 44,
    "start_time": "2025-08-06T05:24:55.231Z"
   },
   {
    "duration": 719,
    "start_time": "2025-08-06T05:24:55.277Z"
   },
   {
    "duration": 350,
    "start_time": "2025-08-06T05:24:55.997Z"
   },
   {
    "duration": 9,
    "start_time": "2025-08-06T05:24:56.348Z"
   },
   {
    "duration": 354,
    "start_time": "2025-08-06T05:24:56.358Z"
   },
   {
    "duration": 342,
    "start_time": "2025-08-06T05:24:56.714Z"
   },
   {
    "duration": 16,
    "start_time": "2025-08-06T05:24:57.057Z"
   },
   {
    "duration": 149,
    "start_time": "2025-08-06T05:24:57.076Z"
   },
   {
    "duration": 31,
    "start_time": "2025-08-06T05:24:57.226Z"
   },
   {
    "duration": 129,
    "start_time": "2025-08-06T05:24:57.258Z"
   },
   {
    "duration": 21,
    "start_time": "2025-08-06T05:24:57.389Z"
   },
   {
    "duration": 4,
    "start_time": "2025-08-06T05:24:57.412Z"
   },
   {
    "duration": 14,
    "start_time": "2025-08-06T05:24:57.417Z"
   },
   {
    "duration": 8,
    "start_time": "2025-08-06T05:24:57.432Z"
   },
   {
    "duration": 235,
    "start_time": "2025-08-06T05:24:57.442Z"
   },
   {
    "duration": 9,
    "start_time": "2025-08-06T05:24:57.678Z"
   },
   {
    "duration": 483,
    "start_time": "2025-08-06T05:24:57.688Z"
   },
   {
    "duration": 346,
    "start_time": "2025-08-06T05:24:58.173Z"
   },
   {
    "duration": 258,
    "start_time": "2025-08-06T05:24:58.521Z"
   },
   {
    "duration": 53,
    "start_time": "2025-08-06T05:24:58.781Z"
   },
   {
    "duration": 76,
    "start_time": "2025-08-06T05:24:58.836Z"
   },
   {
    "duration": 5,
    "start_time": "2025-08-06T05:24:58.914Z"
   },
   {
    "duration": 23,
    "start_time": "2025-08-06T05:24:58.920Z"
   },
   {
    "duration": 131,
    "start_time": "2025-08-06T05:24:58.944Z"
   },
   {
    "duration": 29,
    "start_time": "2025-08-06T05:24:59.076Z"
   },
   {
    "duration": 45,
    "start_time": "2025-08-06T05:24:59.107Z"
   }
  ],
  "colab": {
   "provenance": []
  },
  "kernelspec": {
   "display_name": "Python 3 (ipykernel)",
   "language": "python",
   "name": "python3"
  },
  "language_info": {
   "codemirror_mode": {
    "name": "ipython",
    "version": 3
   },
   "file_extension": ".py",
   "mimetype": "text/x-python",
   "name": "python",
   "nbconvert_exporter": "python",
   "pygments_lexer": "ipython3",
   "version": "3.9.5"
  },
  "toc": {
   "base_numbering": 1,
   "nav_menu": {},
   "number_sections": true,
   "sideBar": true,
   "skip_h1_title": true,
   "title_cell": "Table of Contents",
   "title_sidebar": "Contents",
   "toc_cell": false,
   "toc_position": {
    "height": "calc(100% - 180px)",
    "left": "10px",
    "top": "150px",
    "width": "339px"
   },
   "toc_section_display": true,
   "toc_window_display": true
  }
 },
 "nbformat": 4,
 "nbformat_minor": 1
}
